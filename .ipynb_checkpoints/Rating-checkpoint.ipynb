{
 "cells": [
  {
   "cell_type": "markdown",
   "id": "4c887498",
   "metadata": {},
   "source": [
    "## Keypoints\n",
    "1. Data ko achese divide krna pdega"
   ]
  },
  {
   "cell_type": "code",
   "execution_count": 1,
   "id": "2609eeb0",
   "metadata": {},
   "outputs": [],
   "source": [
    "import pandas as pd\n",
    "import numpy as np\n",
    "from datetime import datetime"
   ]
  },
  {
   "cell_type": "code",
   "execution_count": 2,
   "id": "b262e83b",
   "metadata": {},
   "outputs": [],
   "source": [
    "df = pd.read_csv('rating.csv')"
   ]
  },
  {
   "cell_type": "code",
   "execution_count": 3,
   "id": "a84105cf",
   "metadata": {},
   "outputs": [],
   "source": [
    "df = df[df['Rating'] <= 5]"
   ]
  },
  {
   "cell_type": "code",
   "execution_count": 4,
   "id": "f8ca12e2",
   "metadata": {},
   "outputs": [
    {
     "data": {
      "text/html": [
       "<div>\n",
       "<style scoped>\n",
       "    .dataframe tbody tr th:only-of-type {\n",
       "        vertical-align: middle;\n",
       "    }\n",
       "\n",
       "    .dataframe tbody tr th {\n",
       "        vertical-align: top;\n",
       "    }\n",
       "\n",
       "    .dataframe thead th {\n",
       "        text-align: right;\n",
       "    }\n",
       "</style>\n",
       "<table border=\"1\" class=\"dataframe\">\n",
       "  <thead>\n",
       "    <tr style=\"text-align: right;\">\n",
       "      <th></th>\n",
       "      <th>App</th>\n",
       "      <th>Category</th>\n",
       "      <th>Rating</th>\n",
       "      <th>Reviews</th>\n",
       "      <th>Size</th>\n",
       "      <th>Installs</th>\n",
       "      <th>Type</th>\n",
       "      <th>Price</th>\n",
       "      <th>Content Rating</th>\n",
       "      <th>Genres</th>\n",
       "      <th>Last Updated</th>\n",
       "      <th>Current Ver</th>\n",
       "      <th>Android Ver</th>\n",
       "    </tr>\n",
       "  </thead>\n",
       "  <tbody>\n",
       "    <tr>\n",
       "      <th>0</th>\n",
       "      <td>Photo Editor &amp; Candy Camera &amp; Grid &amp; ScrapBook</td>\n",
       "      <td>ART_AND_DESIGN</td>\n",
       "      <td>4.1</td>\n",
       "      <td>159</td>\n",
       "      <td>19M</td>\n",
       "      <td>10,000+</td>\n",
       "      <td>Free</td>\n",
       "      <td>0</td>\n",
       "      <td>Everyone</td>\n",
       "      <td>Art &amp; Design</td>\n",
       "      <td>January 7, 2018</td>\n",
       "      <td>1.0.0</td>\n",
       "      <td>4.0.3 and up</td>\n",
       "    </tr>\n",
       "    <tr>\n",
       "      <th>1</th>\n",
       "      <td>Coloring book moana</td>\n",
       "      <td>ART_AND_DESIGN</td>\n",
       "      <td>3.9</td>\n",
       "      <td>967</td>\n",
       "      <td>14M</td>\n",
       "      <td>500,000+</td>\n",
       "      <td>Free</td>\n",
       "      <td>0</td>\n",
       "      <td>Everyone</td>\n",
       "      <td>Art &amp; Design;Pretend Play</td>\n",
       "      <td>January 15, 2018</td>\n",
       "      <td>2.0.0</td>\n",
       "      <td>4.0.3 and up</td>\n",
       "    </tr>\n",
       "    <tr>\n",
       "      <th>2</th>\n",
       "      <td>U Launcher Lite – FREE Live Cool Themes, Hide ...</td>\n",
       "      <td>ART_AND_DESIGN</td>\n",
       "      <td>4.7</td>\n",
       "      <td>87510</td>\n",
       "      <td>8.7M</td>\n",
       "      <td>5,000,000+</td>\n",
       "      <td>Free</td>\n",
       "      <td>0</td>\n",
       "      <td>Everyone</td>\n",
       "      <td>Art &amp; Design</td>\n",
       "      <td>August 1, 2018</td>\n",
       "      <td>1.2.4</td>\n",
       "      <td>4.0.3 and up</td>\n",
       "    </tr>\n",
       "    <tr>\n",
       "      <th>3</th>\n",
       "      <td>Sketch - Draw &amp; Paint</td>\n",
       "      <td>ART_AND_DESIGN</td>\n",
       "      <td>4.5</td>\n",
       "      <td>215644</td>\n",
       "      <td>25M</td>\n",
       "      <td>50,000,000+</td>\n",
       "      <td>Free</td>\n",
       "      <td>0</td>\n",
       "      <td>Teen</td>\n",
       "      <td>Art &amp; Design</td>\n",
       "      <td>June 8, 2018</td>\n",
       "      <td>Varies with device</td>\n",
       "      <td>4.2 and up</td>\n",
       "    </tr>\n",
       "    <tr>\n",
       "      <th>4</th>\n",
       "      <td>Pixel Draw - Number Art Coloring Book</td>\n",
       "      <td>ART_AND_DESIGN</td>\n",
       "      <td>4.3</td>\n",
       "      <td>967</td>\n",
       "      <td>2.8M</td>\n",
       "      <td>100,000+</td>\n",
       "      <td>Free</td>\n",
       "      <td>0</td>\n",
       "      <td>Everyone</td>\n",
       "      <td>Art &amp; Design;Creativity</td>\n",
       "      <td>June 20, 2018</td>\n",
       "      <td>1.1</td>\n",
       "      <td>4.4 and up</td>\n",
       "    </tr>\n",
       "  </tbody>\n",
       "</table>\n",
       "</div>"
      ],
      "text/plain": [
       "                                                 App        Category  Rating  \\\n",
       "0     Photo Editor & Candy Camera & Grid & ScrapBook  ART_AND_DESIGN     4.1   \n",
       "1                                Coloring book moana  ART_AND_DESIGN     3.9   \n",
       "2  U Launcher Lite – FREE Live Cool Themes, Hide ...  ART_AND_DESIGN     4.7   \n",
       "3                              Sketch - Draw & Paint  ART_AND_DESIGN     4.5   \n",
       "4              Pixel Draw - Number Art Coloring Book  ART_AND_DESIGN     4.3   \n",
       "\n",
       "  Reviews  Size     Installs  Type Price Content Rating  \\\n",
       "0     159   19M      10,000+  Free     0       Everyone   \n",
       "1     967   14M     500,000+  Free     0       Everyone   \n",
       "2   87510  8.7M   5,000,000+  Free     0       Everyone   \n",
       "3  215644   25M  50,000,000+  Free     0           Teen   \n",
       "4     967  2.8M     100,000+  Free     0       Everyone   \n",
       "\n",
       "                      Genres      Last Updated         Current Ver  \\\n",
       "0               Art & Design   January 7, 2018               1.0.0   \n",
       "1  Art & Design;Pretend Play  January 15, 2018               2.0.0   \n",
       "2               Art & Design    August 1, 2018               1.2.4   \n",
       "3               Art & Design      June 8, 2018  Varies with device   \n",
       "4    Art & Design;Creativity     June 20, 2018                 1.1   \n",
       "\n",
       "    Android Ver  \n",
       "0  4.0.3 and up  \n",
       "1  4.0.3 and up  \n",
       "2  4.0.3 and up  \n",
       "3    4.2 and up  \n",
       "4    4.4 and up  "
      ]
     },
     "execution_count": 4,
     "metadata": {},
     "output_type": "execute_result"
    }
   ],
   "source": [
    "df.head()"
   ]
  },
  {
   "cell_type": "code",
   "execution_count": 5,
   "id": "d4bb86b6",
   "metadata": {
    "scrolled": true
   },
   "outputs": [
    {
     "name": "stdout",
     "output_type": "stream",
     "text": [
      "<class 'pandas.core.frame.DataFrame'>\n",
      "Int64Index: 9366 entries, 0 to 10840\n",
      "Data columns (total 13 columns):\n",
      " #   Column          Non-Null Count  Dtype  \n",
      "---  ------          --------------  -----  \n",
      " 0   App             9366 non-null   object \n",
      " 1   Category        9366 non-null   object \n",
      " 2   Rating          9366 non-null   float64\n",
      " 3   Reviews         9366 non-null   object \n",
      " 4   Size            9366 non-null   object \n",
      " 5   Installs        9366 non-null   object \n",
      " 6   Type            9366 non-null   object \n",
      " 7   Price           9366 non-null   object \n",
      " 8   Content Rating  9366 non-null   object \n",
      " 9   Genres          9366 non-null   object \n",
      " 10  Last Updated    9366 non-null   object \n",
      " 11  Current Ver     9362 non-null   object \n",
      " 12  Android Ver     9364 non-null   object \n",
      "dtypes: float64(1), object(12)\n",
      "memory usage: 1.0+ MB\n"
     ]
    }
   ],
   "source": [
    "df.info()"
   ]
  },
  {
   "cell_type": "code",
   "execution_count": 6,
   "id": "bda63374",
   "metadata": {},
   "outputs": [
    {
     "data": {
      "text/plain": [
       "(9366, 13)"
      ]
     },
     "execution_count": 6,
     "metadata": {},
     "output_type": "execute_result"
    }
   ],
   "source": [
    "df.shape"
   ]
  },
  {
   "cell_type": "markdown",
   "id": "751b40fc",
   "metadata": {},
   "source": [
    "## Visualization of Data"
   ]
  },
  {
   "cell_type": "code",
   "execution_count": 7,
   "id": "33ca2a30",
   "metadata": {},
   "outputs": [
    {
     "data": {
      "text/plain": [
       "count    9366.000000\n",
       "mean        4.191757\n",
       "std         0.515219\n",
       "min         1.000000\n",
       "25%         4.000000\n",
       "50%         4.300000\n",
       "75%         4.500000\n",
       "max         5.000000\n",
       "Name: Rating, dtype: float64"
      ]
     },
     "execution_count": 7,
     "metadata": {},
     "output_type": "execute_result"
    }
   ],
   "source": [
    "df['Rating'].describe()"
   ]
  },
  {
   "cell_type": "code",
   "execution_count": 8,
   "id": "f8a5b6ba",
   "metadata": {},
   "outputs": [
    {
     "data": {
      "text/plain": [
       "4.4    1109\n",
       "4.3    1076\n",
       "4.5    1038\n",
       "4.2     952\n",
       "4.6     823\n",
       "4.1     708\n",
       "4.0     568\n",
       "4.7     499\n",
       "3.9     386\n",
       "3.8     303\n",
       "5.0     274\n",
       "3.7     239\n",
       "4.8     234\n",
       "3.6     174\n",
       "3.5     163\n",
       "3.4     128\n",
       "3.3     102\n",
       "4.9      87\n",
       "3.0      83\n",
       "3.1      69\n",
       "3.2      64\n",
       "2.9      45\n",
       "2.8      42\n",
       "2.7      25\n",
       "2.6      25\n",
       "2.5      21\n",
       "2.3      20\n",
       "2.4      19\n",
       "1.0      16\n",
       "2.2      14\n",
       "1.9      13\n",
       "2.0      12\n",
       "1.7       8\n",
       "1.8       8\n",
       "2.1       8\n",
       "1.6       4\n",
       "1.4       3\n",
       "1.5       3\n",
       "1.2       1\n",
       "Name: Rating, dtype: int64"
      ]
     },
     "execution_count": 8,
     "metadata": {},
     "output_type": "execute_result"
    }
   ],
   "source": [
    "df['Rating'].value_counts()"
   ]
  },
  {
   "cell_type": "markdown",
   "id": "eadef4a4",
   "metadata": {},
   "source": [
    "## Changing Data Objects"
   ]
  },
  {
   "cell_type": "code",
   "execution_count": 9,
   "id": "091fcec3",
   "metadata": {},
   "outputs": [],
   "source": [
    "df['Installs'] = df['Installs'].str.replace('+', '',regex=True)\n",
    "df['Installs'] = df['Installs'].str.replace(',', '').astype(int)"
   ]
  },
  {
   "cell_type": "code",
   "execution_count": 10,
   "id": "9084144c",
   "metadata": {},
   "outputs": [],
   "source": [
    "def convert_size(size):\n",
    "    if size.endswith('M'):\n",
    "        return int(float(size[:-1]) * 1000)\n",
    "    elif size.endswith('k'):\n",
    "        return int(float(size[:-1]))\n",
    "    else:\n",
    "        return int(-1)\n",
    "    \n",
    "df['Size'] = df['Size'].apply(convert_size).astype(int)"
   ]
  },
  {
   "cell_type": "code",
   "execution_count": 11,
   "id": "f7457154",
   "metadata": {},
   "outputs": [],
   "source": [
    "conditions = [\n",
    "    df['Type'].str.lower() == 'free',\n",
    "    df['Type'].str.lower() == 'paid'\n",
    "]\n",
    "choices = [0, 1]\n",
    "\n",
    "df['Type'] = np.select(conditions, choices, default=-1)"
   ]
  },
  {
   "cell_type": "code",
   "execution_count": 12,
   "id": "1d6027d7",
   "metadata": {},
   "outputs": [],
   "source": [
    "df['Price'] = df['Price'].str.replace('$', '',regex=True)\n",
    "\n",
    "df['Price'] = df['Price'].astype(float)"
   ]
  },
  {
   "cell_type": "code",
   "execution_count": 13,
   "id": "2e723414",
   "metadata": {},
   "outputs": [],
   "source": [
    "from sklearn.preprocessing import LabelEncoder\n",
    "\n",
    "# Assuming your dataframe is named df and you have a list of columns to encode\n",
    "columns_to_encode = ['Content Rating', 'Category', 'Genres', 'Current Ver','Android Ver']\n",
    "\n",
    "# Create an instance of LabelEncoder\n",
    "label_encoder = LabelEncoder()\n",
    "\n",
    "# Iterate over the columns and apply label encoding\n",
    "for column in columns_to_encode:\n",
    "    df[column] = label_encoder.fit_transform(df[column])"
   ]
  },
  {
   "cell_type": "code",
   "execution_count": 14,
   "id": "bd00b465",
   "metadata": {},
   "outputs": [],
   "source": [
    "def convert_to_integer(date_str):\n",
    "    date_object = datetime.strptime(date_str, \"%B %d, %Y\")\n",
    "    date_integer = int(date_object.strftime(\"%Y%m%d\"))\n",
    "    return date_integer\n",
    "\n",
    "# Apply the conversion function to the 'Date' column\n",
    "df['Last Updated'] = df['Last Updated'].apply(convert_to_integer)"
   ]
  },
  {
   "cell_type": "markdown",
   "id": "0fda5425",
   "metadata": {},
   "source": [
    "## Normalizing Data"
   ]
  },
  {
   "cell_type": "code",
   "execution_count": 15,
   "id": "e205cde5",
   "metadata": {},
   "outputs": [],
   "source": [
    "from sklearn.preprocessing import StandardScaler, MinMaxScaler\n",
    "\n",
    "columns_to_normalize = ['Size', 'Installs', 'Last Updated','Reviews']\n",
    "\n",
    "# Create an instance of the best normalization scaler\n",
    "# Here, we use StandardScaler as an example\n",
    "scaler = MinMaxScaler()  # or MinMaxScaler()\n",
    "\n",
    "# Normalize the selected columns\n",
    "df[columns_to_normalize] = scaler.fit_transform(df[columns_to_normalize])"
   ]
  },
  {
   "cell_type": "markdown",
   "id": "403980ce",
   "metadata": {},
   "source": [
    "## Final Dataframe"
   ]
  },
  {
   "cell_type": "code",
   "execution_count": 16,
   "id": "dc586d65",
   "metadata": {},
   "outputs": [
    {
     "data": {
      "text/html": [
       "<div>\n",
       "<style scoped>\n",
       "    .dataframe tbody tr th:only-of-type {\n",
       "        vertical-align: middle;\n",
       "    }\n",
       "\n",
       "    .dataframe tbody tr th {\n",
       "        vertical-align: top;\n",
       "    }\n",
       "\n",
       "    .dataframe thead th {\n",
       "        text-align: right;\n",
       "    }\n",
       "</style>\n",
       "<table border=\"1\" class=\"dataframe\">\n",
       "  <thead>\n",
       "    <tr style=\"text-align: right;\">\n",
       "      <th></th>\n",
       "      <th>App</th>\n",
       "      <th>Category</th>\n",
       "      <th>Rating</th>\n",
       "      <th>Reviews</th>\n",
       "      <th>Size</th>\n",
       "      <th>Installs</th>\n",
       "      <th>Type</th>\n",
       "      <th>Price</th>\n",
       "      <th>Content Rating</th>\n",
       "      <th>Genres</th>\n",
       "      <th>Last Updated</th>\n",
       "      <th>Current Ver</th>\n",
       "      <th>Android Ver</th>\n",
       "    </tr>\n",
       "  </thead>\n",
       "  <tbody>\n",
       "    <tr>\n",
       "      <th>0</th>\n",
       "      <td>Photo Editor &amp; Candy Camera &amp; Grid &amp; ScrapBook</td>\n",
       "      <td>0</td>\n",
       "      <td>4.1</td>\n",
       "      <td>0.000002</td>\n",
       "      <td>0.190008</td>\n",
       "      <td>0.00001</td>\n",
       "      <td>0</td>\n",
       "      <td>0.0</td>\n",
       "      <td>1</td>\n",
       "      <td>9</td>\n",
       "      <td>0.991269</td>\n",
       "      <td>107</td>\n",
       "      <td>14</td>\n",
       "    </tr>\n",
       "    <tr>\n",
       "      <th>1</th>\n",
       "      <td>Coloring book moana</td>\n",
       "      <td>0</td>\n",
       "      <td>3.9</td>\n",
       "      <td>0.000012</td>\n",
       "      <td>0.140009</td>\n",
       "      <td>0.00050</td>\n",
       "      <td>0</td>\n",
       "      <td>0.0</td>\n",
       "      <td>1</td>\n",
       "      <td>11</td>\n",
       "      <td>0.991368</td>\n",
       "      <td>952</td>\n",
       "      <td>14</td>\n",
       "    </tr>\n",
       "    <tr>\n",
       "      <th>2</th>\n",
       "      <td>U Launcher Lite – FREE Live Cool Themes, Hide ...</td>\n",
       "      <td>0</td>\n",
       "      <td>4.7</td>\n",
       "      <td>0.001120</td>\n",
       "      <td>0.087009</td>\n",
       "      <td>0.00500</td>\n",
       "      <td>0</td>\n",
       "      <td>0.0</td>\n",
       "      <td>1</td>\n",
       "      <td>9</td>\n",
       "      <td>0.999913</td>\n",
       "      <td>424</td>\n",
       "      <td>14</td>\n",
       "    </tr>\n",
       "    <tr>\n",
       "      <th>3</th>\n",
       "      <td>Sketch - Draw &amp; Paint</td>\n",
       "      <td>0</td>\n",
       "      <td>4.5</td>\n",
       "      <td>0.002759</td>\n",
       "      <td>0.250007</td>\n",
       "      <td>0.05000</td>\n",
       "      <td>0</td>\n",
       "      <td>0.0</td>\n",
       "      <td>4</td>\n",
       "      <td>9</td>\n",
       "      <td>0.997509</td>\n",
       "      <td>2582</td>\n",
       "      <td>17</td>\n",
       "    </tr>\n",
       "    <tr>\n",
       "      <th>4</th>\n",
       "      <td>Pixel Draw - Number Art Coloring Book</td>\n",
       "      <td>0</td>\n",
       "      <td>4.3</td>\n",
       "      <td>0.000012</td>\n",
       "      <td>0.028010</td>\n",
       "      <td>0.00010</td>\n",
       "      <td>0</td>\n",
       "      <td>0.0</td>\n",
       "      <td>1</td>\n",
       "      <td>10</td>\n",
       "      <td>0.997658</td>\n",
       "      <td>250</td>\n",
       "      <td>19</td>\n",
       "    </tr>\n",
       "    <tr>\n",
       "      <th>5</th>\n",
       "      <td>Paper flowers instructions</td>\n",
       "      <td>0</td>\n",
       "      <td>4.4</td>\n",
       "      <td>0.000002</td>\n",
       "      <td>0.056009</td>\n",
       "      <td>0.00005</td>\n",
       "      <td>0</td>\n",
       "      <td>0.0</td>\n",
       "      <td>1</td>\n",
       "      <td>9</td>\n",
       "      <td>0.869443</td>\n",
       "      <td>103</td>\n",
       "      <td>7</td>\n",
       "    </tr>\n",
       "    <tr>\n",
       "      <th>6</th>\n",
       "      <td>Smoke Effect Photo Maker - Smoke Editor</td>\n",
       "      <td>0</td>\n",
       "      <td>3.8</td>\n",
       "      <td>0.000002</td>\n",
       "      <td>0.190008</td>\n",
       "      <td>0.00005</td>\n",
       "      <td>0</td>\n",
       "      <td>0.0</td>\n",
       "      <td>1</td>\n",
       "      <td>9</td>\n",
       "      <td>0.995242</td>\n",
       "      <td>250</td>\n",
       "      <td>14</td>\n",
       "    </tr>\n",
       "    <tr>\n",
       "      <th>7</th>\n",
       "      <td>Infinite Painter</td>\n",
       "      <td>0</td>\n",
       "      <td>4.1</td>\n",
       "      <td>0.000471</td>\n",
       "      <td>0.290007</td>\n",
       "      <td>0.00100</td>\n",
       "      <td>0</td>\n",
       "      <td>0.0</td>\n",
       "      <td>1</td>\n",
       "      <td>9</td>\n",
       "      <td>0.997584</td>\n",
       "      <td>2239</td>\n",
       "      <td>17</td>\n",
       "    </tr>\n",
       "    <tr>\n",
       "      <th>8</th>\n",
       "      <td>Garden Coloring Book</td>\n",
       "      <td>0</td>\n",
       "      <td>4.4</td>\n",
       "      <td>0.000176</td>\n",
       "      <td>0.330007</td>\n",
       "      <td>0.00100</td>\n",
       "      <td>0</td>\n",
       "      <td>0.0</td>\n",
       "      <td>1</td>\n",
       "      <td>9</td>\n",
       "      <td>0.876842</td>\n",
       "      <td>1365</td>\n",
       "      <td>9</td>\n",
       "    </tr>\n",
       "    <tr>\n",
       "      <th>9</th>\n",
       "      <td>Kids Paint Free - Drawing Fun</td>\n",
       "      <td>0</td>\n",
       "      <td>4.7</td>\n",
       "      <td>0.000002</td>\n",
       "      <td>0.031010</td>\n",
       "      <td>0.00001</td>\n",
       "      <td>0</td>\n",
       "      <td>0.0</td>\n",
       "      <td>1</td>\n",
       "      <td>10</td>\n",
       "      <td>0.998692</td>\n",
       "      <td>1340</td>\n",
       "      <td>14</td>\n",
       "    </tr>\n",
       "  </tbody>\n",
       "</table>\n",
       "</div>"
      ],
      "text/plain": [
       "                                                 App  Category  Rating  \\\n",
       "0     Photo Editor & Candy Camera & Grid & ScrapBook         0     4.1   \n",
       "1                                Coloring book moana         0     3.9   \n",
       "2  U Launcher Lite – FREE Live Cool Themes, Hide ...         0     4.7   \n",
       "3                              Sketch - Draw & Paint         0     4.5   \n",
       "4              Pixel Draw - Number Art Coloring Book         0     4.3   \n",
       "5                         Paper flowers instructions         0     4.4   \n",
       "6            Smoke Effect Photo Maker - Smoke Editor         0     3.8   \n",
       "7                                   Infinite Painter         0     4.1   \n",
       "8                               Garden Coloring Book         0     4.4   \n",
       "9                      Kids Paint Free - Drawing Fun         0     4.7   \n",
       "\n",
       "    Reviews      Size  Installs  Type  Price  Content Rating  Genres  \\\n",
       "0  0.000002  0.190008   0.00001     0    0.0               1       9   \n",
       "1  0.000012  0.140009   0.00050     0    0.0               1      11   \n",
       "2  0.001120  0.087009   0.00500     0    0.0               1       9   \n",
       "3  0.002759  0.250007   0.05000     0    0.0               4       9   \n",
       "4  0.000012  0.028010   0.00010     0    0.0               1      10   \n",
       "5  0.000002  0.056009   0.00005     0    0.0               1       9   \n",
       "6  0.000002  0.190008   0.00005     0    0.0               1       9   \n",
       "7  0.000471  0.290007   0.00100     0    0.0               1       9   \n",
       "8  0.000176  0.330007   0.00100     0    0.0               1       9   \n",
       "9  0.000002  0.031010   0.00001     0    0.0               1      10   \n",
       "\n",
       "   Last Updated  Current Ver  Android Ver  \n",
       "0      0.991269          107           14  \n",
       "1      0.991368          952           14  \n",
       "2      0.999913          424           14  \n",
       "3      0.997509         2582           17  \n",
       "4      0.997658          250           19  \n",
       "5      0.869443          103            7  \n",
       "6      0.995242          250           14  \n",
       "7      0.997584         2239           17  \n",
       "8      0.876842         1365            9  \n",
       "9      0.998692         1340           14  "
      ]
     },
     "execution_count": 16,
     "metadata": {},
     "output_type": "execute_result"
    }
   ],
   "source": [
    "df.head(10)"
   ]
  },
  {
   "cell_type": "code",
   "execution_count": 17,
   "id": "0bf9af24",
   "metadata": {},
   "outputs": [
    {
     "name": "stdout",
     "output_type": "stream",
     "text": [
      "<class 'pandas.core.frame.DataFrame'>\n",
      "Int64Index: 9366 entries, 0 to 10840\n",
      "Data columns (total 13 columns):\n",
      " #   Column          Non-Null Count  Dtype  \n",
      "---  ------          --------------  -----  \n",
      " 0   App             9366 non-null   object \n",
      " 1   Category        9366 non-null   int32  \n",
      " 2   Rating          9366 non-null   float64\n",
      " 3   Reviews         9366 non-null   float64\n",
      " 4   Size            9366 non-null   float64\n",
      " 5   Installs        9366 non-null   float64\n",
      " 6   Type            9366 non-null   int32  \n",
      " 7   Price           9366 non-null   float64\n",
      " 8   Content Rating  9366 non-null   int32  \n",
      " 9   Genres          9366 non-null   int32  \n",
      " 10  Last Updated    9366 non-null   float64\n",
      " 11  Current Ver     9366 non-null   int32  \n",
      " 12  Android Ver     9366 non-null   int32  \n",
      "dtypes: float64(6), int32(6), object(1)\n",
      "memory usage: 804.9+ KB\n"
     ]
    }
   ],
   "source": [
    "df.info()"
   ]
  },
  {
   "cell_type": "markdown",
   "id": "eed3788c",
   "metadata": {},
   "source": [
    "## Finding Co-relations"
   ]
  },
  {
   "cell_type": "code",
   "execution_count": 18,
   "id": "e2f21e07",
   "metadata": {},
   "outputs": [
    {
     "data": {
      "text/plain": [
       "Rating            1.000000\n",
       "Last Updated      0.138602\n",
       "Android Ver       0.076248\n",
       "Reviews           0.068141\n",
       "Installs          0.051355\n",
       "Current Ver       0.050569\n",
       "Size              0.045789\n",
       "Type              0.039581\n",
       "Content Rating    0.019868\n",
       "Price            -0.021903\n",
       "Category         -0.034603\n",
       "Genres           -0.046478\n",
       "Name: Rating, dtype: float64"
      ]
     },
     "execution_count": 18,
     "metadata": {},
     "output_type": "execute_result"
    }
   ],
   "source": [
    "corr_matrix = df.corr()\n",
    "corr_matrix['Rating'].sort_values(ascending=False)"
   ]
  },
  {
   "cell_type": "markdown",
   "id": "e035eb9d",
   "metadata": {},
   "source": [
    "## Making Model"
   ]
  },
  {
   "cell_type": "code",
   "execution_count": 19,
   "id": "f48471ef",
   "metadata": {},
   "outputs": [
    {
     "name": "stdout",
     "output_type": "stream",
     "text": [
      "Mean Squared Error: 0.2403257340787822\n"
     ]
    }
   ],
   "source": [
    "import pandas as pd\n",
    "from sklearn.model_selection import train_test_split\n",
    "from sklearn.linear_model import LinearRegression\n",
    "\n",
    "# Assuming you have a dataframe named df with numerical features and a target column 'Rating'\n",
    "\n",
    "# Split the data into input features (X) and target variable (y)\n",
    "X = df.drop(['Rating','App'], axis=1)  # Select all columns except 'Rating' as input features\n",
    "y = df['Rating']  # Select 'Rating' column as the target variable\n",
    "\n",
    "# Split the data into train and test sets\n",
    "X_train, X_test, y_train, y_test = train_test_split(X, y, test_size=0.3, random_state=42)\n",
    "\n",
    "# Train the linear regression model\n",
    "model = LinearRegression()\n",
    "model.fit(X_train, y_train)\n",
    "\n",
    "y_pred = model.predict(X_test)\n",
    "\n",
    "from sklearn.metrics import mean_squared_error\n",
    "mse = mean_squared_error(y_test, y_pred)\n",
    "print(f\"Mean Squared Error: {mse}\")"
   ]
  },
  {
   "cell_type": "markdown",
   "id": "6d848362",
   "metadata": {},
   "source": [
    "## Cross Validation Techniques"
   ]
  },
  {
   "cell_type": "code",
   "execution_count": 20,
   "id": "5b8d891b",
   "metadata": {},
   "outputs": [
    {
     "name": "stdout",
     "output_type": "stream",
     "text": [
      "Cross-Validation Scores:\n",
      "[0.1961255  0.12659275 0.09933982 0.16976473 0.09061952 0.0989752\n",
      " 0.23873553 0.33933702 0.28828544 0.41037103 0.44030459 0.35666173\n",
      " 0.3939126  0.27868317 0.36153408]\n",
      "Mean CV Score: 0.25928284651415334\n",
      "Std CV Score: 0.11861553301443528\n"
     ]
    }
   ],
   "source": [
    "import numpy as np\n",
    "from sklearn.model_selection import cross_val_score\n",
    "\n",
    "# Assuming you have already trained the linear regression model (model) and split the data (X, y)\n",
    "\n",
    "# Perform cross-validation\n",
    "cv_scores = cross_val_score(model, X, y, cv=15, scoring='neg_mean_squared_error')\n",
    "\n",
    "# Convert the negative mean squared errors to positive values\n",
    "cv_scores = -cv_scores\n",
    "\n",
    "# Compute the mean and standard deviation of the cross-validation scores\n",
    "mean_cv_score = np.mean(cv_scores)\n",
    "std_cv_score = np.std(cv_scores)\n",
    "\n",
    "print(\"Cross-Validation Scores:\")\n",
    "print(cv_scores)\n",
    "print(f\"Mean CV Score: {mean_cv_score}\")\n",
    "print(f\"Std CV Score: {std_cv_score}\")"
   ]
  },
  {
   "cell_type": "markdown",
   "id": "d7e6c59b",
   "metadata": {},
   "source": [
    "## Plotting Learning Curves"
   ]
  },
  {
   "cell_type": "code",
   "execution_count": 21,
   "id": "9fb59a37",
   "metadata": {},
   "outputs": [
    {
     "data": {
      "image/png": "[encoded data removed]",
      "text/plain": [
       "<Figure size 720x432 with 1 Axes>"
      ]
     },
     "metadata": {
      "needs_background": "light"
     },
     "output_type": "display_data"
    }
   ],
   "source": [
    "import numpy as np\n",
    "import matplotlib.pyplot as plt\n",
    "from sklearn.model_selection import learning_curve\n",
    "\n",
    "def plot_learning_curve(estimator, X, y, cv, train_sizes=np.linspace(0.1, 1.0, 10)):\n",
    "    # Generate learning curve data\n",
    "    train_sizes, train_scores, validation_scores = learning_curve(\n",
    "        estimator, X, y, cv=cv, train_sizes=train_sizes, scoring='neg_mean_squared_error'\n",
    "    )\n",
    "\n",
    "    # Calculate mean and standard deviation of scores\n",
    "    train_scores_mean = -np.mean(train_scores, axis=1)\n",
    "    train_scores_std = np.std(train_scores, axis=1)\n",
    "    validation_scores_mean = -np.mean(validation_scores, axis=1)\n",
    "    validation_scores_std = np.std(validation_scores, axis=1)\n",
    "\n",
    "    # Plot learning curve\n",
    "    plt.figure(figsize=(10, 6))\n",
    "    plt.title('Learning Curve')\n",
    "    plt.xlabel('Training Examples')\n",
    "    plt.ylabel('Negative Mean Squared Error')\n",
    "\n",
    "    plt.plot(train_sizes, train_scores_mean, 'o-', color='b', label='Training Score')\n",
    "    plt.fill_between(\n",
    "        train_sizes, train_scores_mean - train_scores_std, train_scores_mean + train_scores_std, alpha=0.1, color='b'\n",
    "    )\n",
    "\n",
    "    plt.plot(train_sizes, validation_scores_mean, 'o-', color='r', label='Validation Score')\n",
    "    plt.fill_between(\n",
    "        train_sizes,\n",
    "        validation_scores_mean - validation_scores_std,\n",
    "        validation_scores_mean + validation_scores_std,\n",
    "        alpha=0.1,\n",
    "        color='r'\n",
    "    )\n",
    "\n",
    "    plt.legend(loc='best')\n",
    "    plt.grid(True)\n",
    "    plt.show()\n",
    "\n",
    "# Assuming you have a dataframe named df with numerical features and a target column 'Rating'\n",
    "\n",
    "# Split the data into input features (X) and target variable (y)\n",
    "X = df.drop(['Rating', 'App'], axis=1)  # Select all columns except 'Rating' as input features\n",
    "y = df['Rating']  # Select 'Rating' column as the target variable\n",
    "\n",
    "# Create an instance of the model you want to evaluate (e.g., Linear Regression, Decision Tree, etc.)\n",
    "model = LinearRegression()\n",
    "\n",
    "# Plot the learning curve\n",
    "plot_learning_curve(model, X, y, cv=5)\n"
   ]
  },
  {
   "cell_type": "code",
   "execution_count": null,
   "id": "54afacc8",
   "metadata": {},
   "outputs": [],
   "source": []
  },
  {
   "cell_type": "code",
   "execution_count": null,
   "id": "1d060048",
   "metadata": {},
   "outputs": [],
   "source": []
  },
  {
   "cell_type": "code",
   "execution_count": 22,
   "id": "6ed1a855",
   "metadata": {},
   "outputs": [],
   "source": [
    "Rat = df[df['Rating'] < 3 ]"
   ]
  },
  {
   "cell_type": "code",
   "execution_count": 23,
   "id": "5f21ca74",
   "metadata": {},
   "outputs": [
    {
     "data": {
      "text/html": [
       "<div>\n",
       "<style scoped>\n",
       "    .dataframe tbody tr th:only-of-type {\n",
       "        vertical-align: middle;\n",
       "    }\n",
       "\n",
       "    .dataframe tbody tr th {\n",
       "        vertical-align: top;\n",
       "    }\n",
       "\n",
       "    .dataframe thead th {\n",
       "        text-align: right;\n",
       "    }\n",
       "</style>\n",
       "<table border=\"1\" class=\"dataframe\">\n",
       "  <thead>\n",
       "    <tr style=\"text-align: right;\">\n",
       "      <th></th>\n",
       "      <th>App</th>\n",
       "      <th>Category</th>\n",
       "      <th>Rating</th>\n",
       "      <th>Reviews</th>\n",
       "      <th>Size</th>\n",
       "      <th>Installs</th>\n",
       "      <th>Type</th>\n",
       "      <th>Price</th>\n",
       "      <th>Content Rating</th>\n",
       "      <th>Genres</th>\n",
       "      <th>Last Updated</th>\n",
       "      <th>Current Ver</th>\n",
       "      <th>Android Ver</th>\n",
       "    </tr>\n",
       "  </thead>\n",
       "  <tbody>\n",
       "    <tr>\n",
       "      <th>477</th>\n",
       "      <td>Calculator</td>\n",
       "      <td>7</td>\n",
       "      <td>2.6</td>\n",
       "      <td>7.164946e-07</td>\n",
       "      <td>0.062009</td>\n",
       "      <td>9.990000e-07</td>\n",
       "      <td>1</td>\n",
       "      <td>6.99</td>\n",
       "      <td>1</td>\n",
       "      <td>36</td>\n",
       "      <td>0.878150</td>\n",
       "      <td>293</td>\n",
       "      <td>12</td>\n",
       "    </tr>\n",
       "    <tr>\n",
       "      <th>518</th>\n",
       "      <td>Just She - Top Lesbian Dating</td>\n",
       "      <td>7</td>\n",
       "      <td>1.9</td>\n",
       "      <td>1.218041e-05</td>\n",
       "      <td>0.190008</td>\n",
       "      <td>9.999900e-05</td>\n",
       "      <td>0</td>\n",
       "      <td>0.00</td>\n",
       "      <td>3</td>\n",
       "      <td>36</td>\n",
       "      <td>0.998879</td>\n",
       "      <td>2278</td>\n",
       "      <td>23</td>\n",
       "    </tr>\n",
       "    <tr>\n",
       "      <th>520</th>\n",
       "      <td>EliteSingles – Dating for Single Professionals</td>\n",
       "      <td>7</td>\n",
       "      <td>2.5</td>\n",
       "      <td>6.878348e-05</td>\n",
       "      <td>0.190008</td>\n",
       "      <td>4.999990e-04</td>\n",
       "      <td>0</td>\n",
       "      <td>0.00</td>\n",
       "      <td>3</td>\n",
       "      <td>36</td>\n",
       "      <td>0.999041</td>\n",
       "      <td>1980</td>\n",
       "      <td>14</td>\n",
       "    </tr>\n",
       "    <tr>\n",
       "      <th>527</th>\n",
       "      <td>Sugar Daddy Dating App</td>\n",
       "      <td>7</td>\n",
       "      <td>2.5</td>\n",
       "      <td>3.531295e-06</td>\n",
       "      <td>0.057009</td>\n",
       "      <td>9.999900e-05</td>\n",
       "      <td>0</td>\n",
       "      <td>0.00</td>\n",
       "      <td>3</td>\n",
       "      <td>36</td>\n",
       "      <td>0.880379</td>\n",
       "      <td>1433</td>\n",
       "      <td>16</td>\n",
       "    </tr>\n",
       "    <tr>\n",
       "      <th>528</th>\n",
       "      <td>Adult Dirty Emojis</td>\n",
       "      <td>7</td>\n",
       "      <td>2.8</td>\n",
       "      <td>1.010769e-06</td>\n",
       "      <td>0.055009</td>\n",
       "      <td>9.999000e-06</td>\n",
       "      <td>0</td>\n",
       "      <td>0.00</td>\n",
       "      <td>4</td>\n",
       "      <td>36</td>\n",
       "      <td>0.879159</td>\n",
       "      <td>103</td>\n",
       "      <td>14</td>\n",
       "    </tr>\n",
       "    <tr>\n",
       "      <th>...</th>\n",
       "      <td>...</td>\n",
       "      <td>...</td>\n",
       "      <td>...</td>\n",
       "      <td>...</td>\n",
       "      <td>...</td>\n",
       "      <td>...</td>\n",
       "      <td>...</td>\n",
       "      <td>...</td>\n",
       "      <td>...</td>\n",
       "      <td>...</td>\n",
       "      <td>...</td>\n",
       "      <td>...</td>\n",
       "      <td>...</td>\n",
       "    </tr>\n",
       "    <tr>\n",
       "      <th>10624</th>\n",
       "      <td>Employ Florida Mobile</td>\n",
       "      <td>4</td>\n",
       "      <td>2.9</td>\n",
       "      <td>1.228276e-06</td>\n",
       "      <td>0.099009</td>\n",
       "      <td>9.999000e-06</td>\n",
       "      <td>0</td>\n",
       "      <td>0.00</td>\n",
       "      <td>1</td>\n",
       "      <td>20</td>\n",
       "      <td>0.997571</td>\n",
       "      <td>1933</td>\n",
       "      <td>14</td>\n",
       "    </tr>\n",
       "    <tr>\n",
       "      <th>10665</th>\n",
       "      <td>SB · FN 1870 Mobile Banking</td>\n",
       "      <td>12</td>\n",
       "      <td>2.9</td>\n",
       "      <td>1.765647e-06</td>\n",
       "      <td>0.033010</td>\n",
       "      <td>9.999000e-06</td>\n",
       "      <td>0</td>\n",
       "      <td>0.00</td>\n",
       "      <td>1</td>\n",
       "      <td>58</td>\n",
       "      <td>0.873093</td>\n",
       "      <td>1462</td>\n",
       "      <td>12</td>\n",
       "    </tr>\n",
       "    <tr>\n",
       "      <th>10677</th>\n",
       "      <td>Pint - FN Theme</td>\n",
       "      <td>23</td>\n",
       "      <td>2.5</td>\n",
       "      <td>6.397273e-08</td>\n",
       "      <td>0.002350</td>\n",
       "      <td>9.900000e-08</td>\n",
       "      <td>0</td>\n",
       "      <td>0.00</td>\n",
       "      <td>1</td>\n",
       "      <td>78</td>\n",
       "      <td>0.377259</td>\n",
       "      <td>103</td>\n",
       "      <td>6</td>\n",
       "    </tr>\n",
       "    <tr>\n",
       "      <th>10757</th>\n",
       "      <td>Fisher-Price® Smart Connect™</td>\n",
       "      <td>29</td>\n",
       "      <td>2.7</td>\n",
       "      <td>5.386504e-06</td>\n",
       "      <td>0.720003</td>\n",
       "      <td>4.999900e-05</td>\n",
       "      <td>0</td>\n",
       "      <td>0.00</td>\n",
       "      <td>1</td>\n",
       "      <td>105</td>\n",
       "      <td>0.992714</td>\n",
       "      <td>1220</td>\n",
       "      <td>19</td>\n",
       "    </tr>\n",
       "    <tr>\n",
       "      <th>10766</th>\n",
       "      <td>FreedomPop Diagnostics</td>\n",
       "      <td>29</td>\n",
       "      <td>2.9</td>\n",
       "      <td>5.770340e-06</td>\n",
       "      <td>0.070009</td>\n",
       "      <td>9.999900e-05</td>\n",
       "      <td>0</td>\n",
       "      <td>0.00</td>\n",
       "      <td>1</td>\n",
       "      <td>105</td>\n",
       "      <td>0.874313</td>\n",
       "      <td>235</td>\n",
       "      <td>14</td>\n",
       "    </tr>\n",
       "  </tbody>\n",
       "</table>\n",
       "<p>287 rows × 13 columns</p>\n",
       "</div>"
      ],
      "text/plain": [
       "                                                  App  Category  Rating  \\\n",
       "477                                        Calculator         7     2.6   \n",
       "518                     Just She - Top Lesbian Dating         7     1.9   \n",
       "520    EliteSingles – Dating for Single Professionals         7     2.5   \n",
       "527                            Sugar Daddy Dating App         7     2.5   \n",
       "528                                Adult Dirty Emojis         7     2.8   \n",
       "...                                               ...       ...     ...   \n",
       "10624                           Employ Florida Mobile         4     2.9   \n",
       "10665                     SB · FN 1870 Mobile Banking        12     2.9   \n",
       "10677                                 Pint - FN Theme        23     2.5   \n",
       "10757                    Fisher-Price® Smart Connect™        29     2.7   \n",
       "10766                          FreedomPop Diagnostics        29     2.9   \n",
       "\n",
       "            Reviews      Size      Installs  Type  Price  Content Rating  \\\n",
       "477    7.164946e-07  0.062009  9.990000e-07     1   6.99               1   \n",
       "518    1.218041e-05  0.190008  9.999900e-05     0   0.00               3   \n",
       "520    6.878348e-05  0.190008  4.999990e-04     0   0.00               3   \n",
       "527    3.531295e-06  0.057009  9.999900e-05     0   0.00               3   \n",
       "528    1.010769e-06  0.055009  9.999000e-06     0   0.00               4   \n",
       "...             ...       ...           ...   ...    ...             ...   \n",
       "10624  1.228276e-06  0.099009  9.999000e-06     0   0.00               1   \n",
       "10665  1.765647e-06  0.033010  9.999000e-06     0   0.00               1   \n",
       "10677  6.397273e-08  0.002350  9.900000e-08     0   0.00               1   \n",
       "10757  5.386504e-06  0.720003  4.999900e-05     0   0.00               1   \n",
       "10766  5.770340e-06  0.070009  9.999900e-05     0   0.00               1   \n",
       "\n",
       "       Genres  Last Updated  Current Ver  Android Ver  \n",
       "477        36      0.878150          293           12  \n",
       "518        36      0.998879         2278           23  \n",
       "520        36      0.999041         1980           14  \n",
       "527        36      0.880379         1433           16  \n",
       "528        36      0.879159          103           14  \n",
       "...       ...           ...          ...          ...  \n",
       "10624      20      0.997571         1933           14  \n",
       "10665      58      0.873093         1462           12  \n",
       "10677      78      0.377259          103            6  \n",
       "10757     105      0.992714         1220           19  \n",
       "10766     105      0.874313          235           14  \n",
       "\n",
       "[287 rows x 13 columns]"
      ]
     },
     "execution_count": 23,
     "metadata": {},
     "output_type": "execute_result"
    }
   ],
   "source": [
    "Rat"
   ]
  },
  {
   "cell_type": "code",
   "execution_count": null,
   "id": "b1e27e61",
   "metadata": {},
   "outputs": [],
   "source": []
  },
  {
   "cell_type": "code",
   "execution_count": 24,
   "id": "6ba8c4d6",
   "metadata": {},
   "outputs": [
    {
     "name": "stdout",
     "output_type": "stream",
     "text": [
      "Mean Squared Error: 0.2549232592040211\n"
     ]
    }
   ],
   "source": [
    "import pandas as pd\n",
    "from sklearn.model_selection import train_test_split\n",
    "from sklearn.linear_model import LinearRegression\n",
    "from sklearn.metrics import mean_squared_error\n",
    "\n",
    "# Assuming you have a dataframe named df with numerical features X and target variable y\n",
    "\n",
    "# Separate the input features (X) and the target variable (y)\n",
    "X = df.drop(['Rating','App'], axis=1)  # Select all columns except 'Rating' as input features\n",
    "y = df['Rating']\n",
    "\n",
    "# Split the data into train and test sets\n",
    "X_train, X_test, y_train, y_test = train_test_split(X, y, test_size=0.2, random_state=42)\n",
    "\n",
    "# Compute class weights\n",
    "class_weights = dict(pd.Series(y_train).value_counts(normalize=True))\n",
    "\n",
    "# Define the linear regression model\n",
    "model = LinearRegression()\n",
    "\n",
    "# Fit the model on the training data with sample weights\n",
    "model.fit(X_train, y_train, sample_weight=y_train.map(class_weights))\n",
    "\n",
    "# Make predictions on the test data\n",
    "y_pred = model.predict(X_test)\n",
    "\n",
    "# Evaluate the model\n",
    "mse = mean_squared_error(y_test, y_pred)\n",
    "print(f\"Mean Squared Error: {mse}\")\n"
   ]
  },
  {
   "cell_type": "code",
   "execution_count": null,
   "id": "5664d9a0",
   "metadata": {},
   "outputs": [],
   "source": []
  },
  {
   "cell_type": "code",
   "execution_count": 25,
   "id": "591eea18",
   "metadata": {},
   "outputs": [
    {
     "data": {
      "text/plain": [
       "App               Just She - Top Lesbian Dating\n",
       "Category                                      7\n",
       "Rating                                      1.9\n",
       "Reviews                                0.000012\n",
       "Size                                   0.190008\n",
       "Installs                                 0.0001\n",
       "Type                                          0\n",
       "Price                                       0.0\n",
       "Content Rating                                3\n",
       "Genres                                       36\n",
       "Last Updated                           0.998879\n",
       "Current Ver                                2278\n",
       "Android Ver                                  23\n",
       "Name: 518, dtype: object"
      ]
     },
     "execution_count": 25,
     "metadata": {},
     "output_type": "execute_result"
    }
   ],
   "source": [
    "df.loc[518]"
   ]
  },
  {
   "cell_type": "code",
   "execution_count": 26,
   "id": "88554297",
   "metadata": {},
   "outputs": [
    {
     "name": "stderr",
     "output_type": "stream",
     "text": [
      "C:\\Users\\vikas\\AppData\\Local\\Programs\\Python\\Python310\\lib\\site-packages\\sklearn\\base.py:450: UserWarning: X does not have valid feature names, but LinearRegression was fitted with feature names\n",
      "  warnings.warn(\n"
     ]
    },
    {
     "data": {
      "text/plain": [
       "array([4.32671968])"
      ]
     },
     "execution_count": 26,
     "metadata": {},
     "output_type": "execute_result"
    }
   ],
   "source": [
    "model.predict([X.loc[518]])"
   ]
  },
  {
   "cell_type": "markdown",
   "id": "10dfad03",
   "metadata": {},
   "source": [
    "## Better Evaluation"
   ]
  },
  {
   "cell_type": "code",
   "execution_count": 27,
   "id": "15e97c11",
   "metadata": {},
   "outputs": [
    {
     "name": "stdout",
     "output_type": "stream",
     "text": [
      "R-squared Score: -0.034121293226382576\n"
     ]
    }
   ],
   "source": [
    "from sklearn.metrics import r2_score\n",
    "\n",
    "r2 = r2_score(y_test, y_pred)\n",
    "print(\"R-squared Score:\", r2)\n"
   ]
  },
  {
   "cell_type": "code",
   "execution_count": 28,
   "id": "8eae53c3",
   "metadata": {},
   "outputs": [
    {
     "name": "stdout",
     "output_type": "stream",
     "text": [
      "Mean Absolute Error: 0.341445324261416\n"
     ]
    }
   ],
   "source": [
    "from sklearn.metrics import mean_absolute_error\n",
    "\n",
    "mae = mean_absolute_error(y_test, y_pred)\n",
    "print(\"Mean Absolute Error:\", mae)\n"
   ]
  },
  {
   "cell_type": "code",
   "execution_count": 29,
   "id": "70af3cce",
   "metadata": {},
   "outputs": [
    {
     "name": "stdout",
     "output_type": "stream",
     "text": [
      "Root Mean Squared Error: 0.5048992564898676\n"
     ]
    }
   ],
   "source": [
    "from sklearn.metrics import mean_squared_error\n",
    "\n",
    "mse = mean_squared_error(y_test, y_pred)\n",
    "rmse = np.sqrt(mse)\n",
    "print(\"Root Mean Squared Error:\", rmse)\n"
   ]
  },
  {
   "cell_type": "code",
   "execution_count": null,
   "id": "6292828c",
   "metadata": {},
   "outputs": [],
   "source": []
  },
  {
   "cell_type": "code",
   "execution_count": null,
   "id": "455470a9",
   "metadata": {},
   "outputs": [],
   "source": []
  },
  {
   "cell_type": "markdown",
   "id": "ad2b0ff7",
   "metadata": {},
   "source": [
    "## Using Different Models"
   ]
  },
  {
   "cell_type": "code",
   "execution_count": 30,
   "id": "6a47e31c",
   "metadata": {},
   "outputs": [
    {
     "name": "stdout",
     "output_type": "stream",
     "text": [
      "R-squared Score: -0.016190013511929946\n"
     ]
    }
   ],
   "source": [
    "import pandas as pd\n",
    "from sklearn.model_selection import train_test_split\n",
    "from sklearn.linear_model import LinearRegression\n",
    "from sklearn.metrics import r2_score\n",
    "\n",
    "# Assuming you have a dataframe named df with numerical features X and target variable y\n",
    "\n",
    "# Separate the input features (X) and the target variable (y)\n",
    "X = df.drop(['Rating','App'], axis=1)  # Select all columns except 'Rating' as input features\n",
    "y = df['Rating']\n",
    "\n",
    "from sklearn.preprocessing import PolynomialFeatures\n",
    "\n",
    "# Transform the input features to include polynomial terms\n",
    "degree = 2  # Specify the degree of the polynomial\n",
    "poly_features = PolynomialFeatures(degree=degree)\n",
    "X_poly = poly_features.fit_transform(X)\n",
    "\n",
    "# Split the data into train and test sets\n",
    "X_train_poly, X_test_poly, y_train, y_test = train_test_split(X_poly, y, test_size=0.2, random_state=42)\n",
    "\n",
    "# Compute class weights\n",
    "class_weights = dict(pd.Series(y_train).value_counts(normalize=True))\n",
    "\n",
    "# Define the linear regression model\n",
    "model = LinearRegression()\n",
    "\n",
    "# Fit the model on the training data with sample weights\n",
    "model.fit(X_train_poly, y_train, sample_weight=y_train.map(class_weights))\n",
    "\n",
    "# Make predictions on the test data\n",
    "y_pred = model.predict(X_test_poly)\n",
    "\n",
    "# Evaluate the model\n",
    "r2 = r2_score(y_test, y_pred)\n",
    "print(\"R-squared Score:\", r2)\n"
   ]
  },
  {
   "cell_type": "code",
   "execution_count": null,
   "id": "dc82fa40",
   "metadata": {},
   "outputs": [],
   "source": []
  },
  {
   "cell_type": "code",
   "execution_count": 31,
   "id": "466ba481",
   "metadata": {},
   "outputs": [
    {
     "name": "stdout",
     "output_type": "stream",
     "text": [
      "R-squared Score: -0.7799895002931723\n"
     ]
    }
   ],
   "source": [
    "import pandas as pd\n",
    "from sklearn.model_selection import train_test_split\n",
    "from sklearn.tree import DecisionTreeRegressor\n",
    "from sklearn.metrics import r2_score\n",
    "\n",
    "# Assuming you have a dataframe named df with numerical features X and target variable y\n",
    "\n",
    "# Separate the input features (X) and the target variable (y)\n",
    "X = df.drop(['Rating','App'], axis=1)  # Select all columns except 'Rating' as input features\n",
    "y = df['Rating']\n",
    "\n",
    "# Split the data into train and test sets\n",
    "X_train, X_test, y_train, y_test = train_test_split(X, y, test_size=0.2, random_state=42)\n",
    "\n",
    "# Compute class weights\n",
    "class_weights = dict(pd.Series(y_train).value_counts(normalize=True))\n",
    "\n",
    "# Define the linear regression model\n",
    "model = DecisionTreeRegressor()\n",
    "\n",
    "# Fit the model on the training data with sample weights\n",
    "model.fit(X_train, y_train, sample_weight=y_train.map(class_weights))\n",
    "\n",
    "# Make predictions on the test data\n",
    "y_pred = model.predict(X_test)\n",
    "\n",
    "# Evaluate the model\n",
    "r2 = r2_score(y_test, y_pred)\n",
    "print(\"R-squared Score:\", r2)\n"
   ]
  },
  {
   "cell_type": "code",
   "execution_count": null,
   "id": "2dde1001",
   "metadata": {},
   "outputs": [],
   "source": []
  },
  {
   "cell_type": "code",
   "execution_count": 32,
   "id": "eb8c70ff",
   "metadata": {},
   "outputs": [
    {
     "name": "stdout",
     "output_type": "stream",
     "text": [
      "R-squared Score: -0.0918686580512138\n"
     ]
    }
   ],
   "source": [
    "import pandas as pd\n",
    "from sklearn.model_selection import train_test_split\n",
    "from sklearn.svm import SVR\n",
    "from sklearn.metrics import r2_score\n",
    "\n",
    "# Assuming you have a dataframe named df with numerical features X and target variable y\n",
    "\n",
    "# Separate the input features (X) and the target variable (y)\n",
    "X = df.drop(['Rating','App'], axis=1)  # Select all columns except 'Rating' as input features\n",
    "y = df['Rating']\n",
    "\n",
    "# Split the data into train and test sets\n",
    "X_train, X_test, y_train, y_test = train_test_split(X, y, test_size=0.2, random_state=42)\n",
    "\n",
    "# Compute class weights\n",
    "class_weights = dict(pd.Series(y_train).value_counts(normalize=True))\n",
    "\n",
    "# Define the linear regression model\n",
    "model = SVR()\n",
    "\n",
    "# Fit the model on the training data with sample weights\n",
    "model.fit(X_train, y_train, sample_weight=y_train.map(class_weights))\n",
    "\n",
    "# Make predictions on the test data\n",
    "y_pred = model.predict(X_test)\n",
    "\n",
    "# Evaluate the model\n",
    "r2 = r2_score(y_test, y_pred)\n",
    "print(\"R-squared Score:\", r2)\n"
   ]
  },
  {
   "cell_type": "code",
   "execution_count": null,
   "id": "cda5848d",
   "metadata": {},
   "outputs": [],
   "source": []
  },
  {
   "cell_type": "code",
   "execution_count": 33,
   "id": "734ae0d4",
   "metadata": {},
   "outputs": [
    {
     "name": "stdout",
     "output_type": "stream",
     "text": [
      "R-squared Score: -0.2823820628266809\n"
     ]
    }
   ],
   "source": [
    "import pandas as pd\n",
    "from sklearn.model_selection import train_test_split\n",
    "from sklearn.neural_network import MLPRegressor\n",
    "from sklearn.metrics import r2_score\n",
    "\n",
    "# Assuming you have a dataframe named df with numerical features X and target variable y\n",
    "\n",
    "# Separate the input features (X) and the target variable (y)\n",
    "X = df.drop(['Rating','App'], axis=1)  # Select all columns except 'Rating' as input features\n",
    "y = df['Rating']\n",
    "\n",
    "# Split the data into train and test sets\n",
    "X_train, X_test, y_train, y_test = train_test_split(X, y, test_size=0.2, random_state=42)\n",
    "\n",
    "# Define the linear regression model\n",
    "model = MLPRegressor()\n",
    "\n",
    "# Fit the model on the training data with sample weights\n",
    "model.fit(X_train, y_train)\n",
    "\n",
    "# Make predictions on the test data\n",
    "y_pred = model.predict(X_test)\n",
    "\n",
    "# Evaluate the model\n",
    "r2 = r2_score(y_test, y_pred)\n",
    "print(\"R-squared Score:\", r2)\n"
   ]
  },
  {
   "cell_type": "code",
   "execution_count": null,
   "id": "961c7cee",
   "metadata": {},
   "outputs": [],
   "source": []
  },
  {
   "cell_type": "code",
   "execution_count": 65,
   "id": "177fc5e2",
   "metadata": {},
   "outputs": [
    {
     "name": "stdout",
     "output_type": "stream",
     "text": [
      "R-squared Score: 0.17754905569839385\n"
     ]
    }
   ],
   "source": [
    "import pandas as pd\n",
    "from sklearn.model_selection import train_test_split\n",
    "from sklearn.ensemble import RandomForestRegressor\n",
    "from sklearn.metrics import r2_score\n",
    "\n",
    "# Assuming you have a dataframe named df with numerical features X and target variable y\n",
    "\n",
    "# Separate the input features (X) and the target variable (y)\n",
    "X = df.drop(['Rating','App'], axis=1)  # Select all columns except 'Rating' as input features\n",
    "y = df['Rating']\n",
    "\n",
    "# Split the data into train and test sets\n",
    "X_train, X_test, y_train, y_test = train_test_split(X, y, test_size=0.2, random_state=42)\n",
    "\n",
    "# Compute class weights\n",
    "class_weights = 1.0 / pd.Series(y_train).value_counts(normalize=False)\n",
    "\n",
    "# Define the linear regression model\n",
    "model = RandomForestRegressor()\n",
    "\n",
    "# Fit the model on the training data with sample weights\n",
    "model.fit(X_train, y_train, sample_weight=y_train.map(class_weights))\n",
    "\n",
    "# Make predictions on the test data\n",
    "y_pred = model.predict(X_test)\n",
    "\n",
    "# Evaluate the model\n",
    "r2 = r2_score(y_test, y_pred)\n",
    "print(\"R-squared Score:\", r2)\n"
   ]
  },
  {
   "cell_type": "code",
   "execution_count": 66,
   "id": "f11855c0",
   "metadata": {},
   "outputs": [
    {
     "name": "stderr",
     "output_type": "stream",
     "text": [
      "C:\\Users\\vikas\\AppData\\Local\\Programs\\Python\\Python310\\lib\\site-packages\\sklearn\\base.py:450: UserWarning: X does not have valid feature names, but RandomForestRegressor was fitted with feature names\n",
      "  warnings.warn(\n"
     ]
    },
    {
     "data": {
      "text/plain": [
       "array([2.9])"
      ]
     },
     "execution_count": 66,
     "metadata": {},
     "output_type": "execute_result"
    }
   ],
   "source": [
    "model.predict([X.loc[528]])"
   ]
  },
  {
   "cell_type": "code",
   "execution_count": 67,
   "id": "be18432d",
   "metadata": {},
   "outputs": [
    {
     "data": {
      "text/plain": [
       "2.8"
      ]
     },
     "execution_count": 67,
     "metadata": {},
     "output_type": "execute_result"
    }
   ],
   "source": [
    "y.loc[528]"
   ]
  },
  {
   "cell_type": "code",
   "execution_count": null,
   "id": "a83fcb18",
   "metadata": {},
   "outputs": [],
   "source": []
  },
  {
   "cell_type": "code",
   "execution_count": 45,
   "id": "cdbb99e3",
   "metadata": {},
   "outputs": [],
   "source": [
    "from sklearn.model_selection import GridSearchCV\n",
    "\n",
    "# Define the parameter grid for grid search\n",
    "param_grid = {\n",
    "    'n_estimators': [100, 300],  # Number of trees in the forest\n",
    "    'max_depth': [None, 10],  # Maximum depth of the trees\n",
    "    'min_samples_split': [2, 10],  # Minimum number of samples required to split an internal node\n",
    "    'min_samples_leaf': [1, 4],  # Minimum number of samples required to be at a leaf node\n",
    "}\n",
    "\n",
    "# Perform grid search with cross-validation\n",
    "grid_search = GridSearchCV(model, param_grid, cv=5, scoring='r2')\n",
    "grid_search.fit(X_train, y_train)\n",
    "\n",
    "# Get the best model and its hyperparameters\n",
    "best_model = grid_search.best_estimator_\n",
    "best_params = grid_search.best_params_\n"
   ]
  },
  {
   "cell_type": "code",
   "execution_count": null,
   "id": "e28ef8e4",
   "metadata": {},
   "outputs": [],
   "source": []
  },
  {
   "cell_type": "code",
   "execution_count": 46,
   "id": "49c093e0",
   "metadata": {},
   "outputs": [
    {
     "name": "stdout",
     "output_type": "stream",
     "text": [
      "{4.4: 0.1198611852642819, 4.3: 0.11705819540843566, 4.5: 0.11238654564869194, 4.2: 0.10077415910304324, 4.6: 0.08689268553123332, 4.1: 0.07674853176721837, 4.0: 0.05939668980245595, 4.7: 0.051388147357180995, 3.9: 0.03964228510411105, 3.8: 0.03190069407367859, 5.0: 0.02802989855846236, 3.7: 0.02589428723972237, 4.8: 0.02375867592098238, 3.6: 0.019487453283502404, 3.5: 0.016951414842498666, 3.4: 0.013347570742124934, 3.3: 0.011078483715963695, 4.9: 0.009743726641751202, 3.0: 0.008809396689802455, 3.2: 0.007341163908168713, 3.1: 0.007207688200747464, 2.9: 0.005072076882007475, 2.8: 0.004938601174586226, 2.6: 0.0030699412706887345, 2.7: 0.0026695141484249867, 2.5: 0.002402562733582488, 1.0: 0.00200213561131874, 2.4: 0.00200213561131874, 2.3: 0.0018686599038974907, 2.2: 0.001601708489054992, 1.9: 0.001601708489054992, 2.0: 0.0014682327816337426, 2.1: 0.0009343299519487453, 1.7: 0.000800854244527496, 1.8: 0.000800854244527496, 1.6: 0.0005339028296849973, 1.4: 0.000400427122263748, 1.5: 0.00013347570742124932}\n"
     ]
    }
   ],
   "source": [
    "print(class_weights)"
   ]
  },
  {
   "cell_type": "code",
   "execution_count": null,
   "id": "b467a36a",
   "metadata": {},
   "outputs": [],
   "source": []
  },
  {
   "cell_type": "code",
   "execution_count": 72,
   "id": "14442bea",
   "metadata": {},
   "outputs": [
    {
     "name": "stdout",
     "output_type": "stream",
     "text": [
      "Fitting 5 folds for each of 30 candidates, totalling 150 fits\n",
      "Best Parameters: {'n_estimators': 200, 'min_samples_split': 5, 'min_samples_leaf': 1, 'max_features': 'sqrt', 'max_depth': None, 'bootstrap': True}\n",
      "R-squared Score: 0.19668141645514592\n"
     ]
    }
   ],
   "source": [
    "from sklearn.model_selection import RandomizedSearchCV\n",
    "\n",
    "# Define the parameter grid for grid search\n",
    "param_grid = {\n",
    "    'n_estimators': [100, 200, 300],  # Number of trees in the forest\n",
    "    'max_depth': [None, 5, 10],  # Maximum depth of the trees\n",
    "    'min_samples_split': [2, 5, 10],  # Minimum number of samples required to split an internal node\n",
    "    'min_samples_leaf': [1, 2, 4],  # Minimum number of samples required to be at a leaf node\n",
    "    'max_features': ['auto', 'sqrt'],  # Number of features to consider when looking for the best split\n",
    "    'bootstrap': [True, False]  # Whether bootstrap samples are used when building trees\n",
    "}\n",
    "\n",
    "random_search = RandomizedSearchCV(\n",
    "    estimator=model,\n",
    "    param_distributions=param_grid,\n",
    "    n_iter=30,  # Number of parameter settings that are sampled\n",
    "    scoring='r2',  # Scoring metric for evaluation\n",
    "    cv=5,  # Number of cross-validation folds\n",
    "    verbose=3,  # Verbosity level (increase for more information)\n",
    "    n_jobs=-1  # Number of parallel jobs (-1 to use all available cores)\n",
    ")\n",
    "\n",
    "# Fit the RandomizedSearchCV object to the training data\n",
    "random_search.fit(X_train, y_train)\n",
    "\n",
    "# Print the best parameter combination found\n",
    "print(\"Best Parameters:\", random_search.best_params_)\n",
    "\n",
    "# Make predictions using the best estimator\n",
    "y_pred = random_search.best_estimator_.predict(X_test)\n",
    "\n",
    "# Evaluate the model performance\n",
    "r2 = r2_score(y_test, y_pred)\n",
    "print(\"R-squared Score:\", r2)"
   ]
  },
  {
   "cell_type": "code",
   "execution_count": null,
   "id": "0de35251",
   "metadata": {},
   "outputs": [],
   "source": []
  },
  {
   "cell_type": "code",
   "execution_count": null,
   "id": "455e222d",
   "metadata": {},
   "outputs": [],
   "source": []
  },
  {
   "cell_type": "code",
   "execution_count": 60,
   "id": "64d1649c",
   "metadata": {},
   "outputs": [],
   "source": [
    "class_weights = 1.0 / pd.Series(y_train).value_counts(normalize=False)"
   ]
  },
  {
   "cell_type": "code",
   "execution_count": 68,
   "id": "fe6a3d9d",
   "metadata": {
    "collapsed": true
   },
   "outputs": [
    {
     "data": {
      "text/plain": [
       "4.4    0.001114\n",
       "4.3    0.001140\n",
       "4.5    0.001188\n",
       "4.2    0.001325\n",
       "4.6    0.001536\n",
       "4.1    0.001739\n",
       "4.0    0.002247\n",
       "4.7    0.002597\n",
       "3.9    0.003367\n",
       "3.8    0.004184\n",
       "5.0    0.004762\n",
       "3.7    0.005155\n",
       "4.8    0.005618\n",
       "3.6    0.006849\n",
       "3.5    0.007874\n",
       "3.4    0.010000\n",
       "3.3    0.012048\n",
       "4.9    0.013699\n",
       "3.0    0.015152\n",
       "3.2    0.018182\n",
       "3.1    0.018519\n",
       "2.9    0.026316\n",
       "2.8    0.027027\n",
       "2.6    0.043478\n",
       "2.7    0.050000\n",
       "2.5    0.055556\n",
       "1.0    0.066667\n",
       "2.4    0.066667\n",
       "2.3    0.071429\n",
       "2.2    0.083333\n",
       "1.9    0.083333\n",
       "2.0    0.090909\n",
       "2.1    0.142857\n",
       "1.7    0.166667\n",
       "1.8    0.166667\n",
       "1.6    0.250000\n",
       "1.4    0.333333\n",
       "1.5    1.000000\n",
       "Name: Rating, dtype: float64"
      ]
     },
     "execution_count": 68,
     "metadata": {},
     "output_type": "execute_result"
    }
   ],
   "source": [
    "class_weights"
   ]
  },
  {
   "cell_type": "markdown",
   "id": "35ac78e9",
   "metadata": {},
   "source": [
    "Fitting 5 folds for each of 30 candidates, totalling 150 fits\n",
    "Best Parameters: {'n_estimators': 200, 'min_samples_split': 5, 'min_samples_leaf': 1, 'max_features': 'sqrt', 'max_depth': None, 'bootstrap': True}\n",
    "R-squared Score: 0.19668141645514592"
   ]
  },
  {
   "cell_type": "code",
   "execution_count": null,
   "id": "79b6a938",
   "metadata": {},
   "outputs": [],
   "source": []
  }
 ],
 "metadata": {
  "kernelspec": {
   "display_name": "Python 3 (ipykernel)",
   "language": "python",
   "name": "python3"
  },
  "language_info": {
   "codemirror_mode": {
    "name": "ipython",
    "version": 3
   },
   "file_extension": ".py",
   "mimetype": "text/x-python",
   "name": "python",
   "nbconvert_exporter": "python",
   "pygments_lexer": "ipython3",
   "version": "3.10.4"
  }
 },
 "nbformat": 4,
 "nbformat_minor": 5
}
