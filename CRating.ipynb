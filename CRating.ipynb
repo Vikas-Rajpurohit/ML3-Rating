{
  "cells": [
    {
      "cell_type": "markdown",
      "metadata": {
        "id": "4c887498"
      },
      "source": [
        "## Keypoints\n",
        "1. Biased Dataset"
      ],
      "id": "4c887498"
    },
    {
      "cell_type": "code",
      "execution_count": null,
      "metadata": {
        "id": "2609eeb0"
      },
      "outputs": [],
      "source": [
        "import pandas as pd\n",
        "import numpy as np\n",
        "from datetime import datetime"
      ],
      "id": "2609eeb0"
    },
    {
      "cell_type": "code",
      "execution_count": null,
      "metadata": {
        "id": "b262e83b"
      },
      "outputs": [],
      "source": [
        "df = pd.read_csv('rating.csv')"
      ],
      "id": "b262e83b"
    },
    {
      "cell_type": "code",
      "execution_count": null,
      "metadata": {
        "colab": {
          "base_uri": "https://localhost:8080/"
        },
        "id": "yfuOspszehQ9",
        "outputId": "9544a488-a991-42f8-b364-0bba1fad15ef"
      },
      "outputs": [
        {
          "data": {
            "text/plain": [
              "(10841, 13)"
            ]
          },
          "execution_count": 5,
          "metadata": {},
          "output_type": "execute_result"
        }
      ],
      "source": [
        "df.shape"
      ],
      "id": "yfuOspszehQ9"
    },
    {
      "cell_type": "code",
      "execution_count": null,
      "metadata": {
        "id": "a84105cf"
      },
      "outputs": [],
      "source": [
        "df = df[df['Rating'] <= 5]"
      ],
      "id": "a84105cf"
    },
    {
      "cell_type": "code",
      "execution_count": null,
      "metadata": {
        "colab": {
          "base_uri": "https://localhost:8080/",
          "height": 441
        },
        "id": "f8ca12e2",
        "outputId": "ba1c6d13-9f57-4a25-fcdc-a4dfee02392b"
      },
      "outputs": [
        {
          "data": {
            "text/html": [
              "\n",
              "  <div id=\"df-1d22cd0a-8c6b-4e4d-a9dc-5938ecc82924\">\n",
              "    <div class=\"colab-df-container\">\n",
              "      <div>\n",
              "<style scoped>\n",
              "    .dataframe tbody tr th:only-of-type {\n",
              "        vertical-align: middle;\n",
              "    }\n",
              "\n",
              "    .dataframe tbody tr th {\n",
              "        vertical-align: top;\n",
              "    }\n",
              "\n",
              "    .dataframe thead th {\n",
              "        text-align: right;\n",
              "    }\n",
              "</style>\n",
              "<table border=\"1\" class=\"dataframe\">\n",
              "  <thead>\n",
              "    <tr style=\"text-align: right;\">\n",
              "      <th></th>\n",
              "      <th>App</th>\n",
              "      <th>Category</th>\n",
              "      <th>Rating</th>\n",
              "      <th>Reviews</th>\n",
              "      <th>Size</th>\n",
              "      <th>Installs</th>\n",
              "      <th>Type</th>\n",
              "      <th>Price</th>\n",
              "      <th>Content Rating</th>\n",
              "      <th>Genres</th>\n",
              "      <th>Last Updated</th>\n",
              "      <th>Current Ver</th>\n",
              "      <th>Android Ver</th>\n",
              "    </tr>\n",
              "  </thead>\n",
              "  <tbody>\n",
              "    <tr>\n",
              "      <th>0</th>\n",
              "      <td>Photo Editor &amp; Candy Camera &amp; Grid &amp; ScrapBook</td>\n",
              "      <td>ART_AND_DESIGN</td>\n",
              "      <td>4.1</td>\n",
              "      <td>159</td>\n",
              "      <td>19M</td>\n",
              "      <td>10,000+</td>\n",
              "      <td>Free</td>\n",
              "      <td>0</td>\n",
              "      <td>Everyone</td>\n",
              "      <td>Art &amp; Design</td>\n",
              "      <td>January 7, 2018</td>\n",
              "      <td>1.0.0</td>\n",
              "      <td>4.0.3 and up</td>\n",
              "    </tr>\n",
              "    <tr>\n",
              "      <th>1</th>\n",
              "      <td>Coloring book moana</td>\n",
              "      <td>ART_AND_DESIGN</td>\n",
              "      <td>3.9</td>\n",
              "      <td>967</td>\n",
              "      <td>14M</td>\n",
              "      <td>500,000+</td>\n",
              "      <td>Free</td>\n",
              "      <td>0</td>\n",
              "      <td>Everyone</td>\n",
              "      <td>Art &amp; Design;Pretend Play</td>\n",
              "      <td>January 15, 2018</td>\n",
              "      <td>2.0.0</td>\n",
              "      <td>4.0.3 and up</td>\n",
              "    </tr>\n",
              "    <tr>\n",
              "      <th>2</th>\n",
              "      <td>U Launcher Lite – FREE Live Cool Themes, Hide ...</td>\n",
              "      <td>ART_AND_DESIGN</td>\n",
              "      <td>4.7</td>\n",
              "      <td>87510</td>\n",
              "      <td>8.7M</td>\n",
              "      <td>5,000,000+</td>\n",
              "      <td>Free</td>\n",
              "      <td>0</td>\n",
              "      <td>Everyone</td>\n",
              "      <td>Art &amp; Design</td>\n",
              "      <td>August 1, 2018</td>\n",
              "      <td>1.2.4</td>\n",
              "      <td>4.0.3 and up</td>\n",
              "    </tr>\n",
              "    <tr>\n",
              "      <th>3</th>\n",
              "      <td>Sketch - Draw &amp; Paint</td>\n",
              "      <td>ART_AND_DESIGN</td>\n",
              "      <td>4.5</td>\n",
              "      <td>215644</td>\n",
              "      <td>25M</td>\n",
              "      <td>50,000,000+</td>\n",
              "      <td>Free</td>\n",
              "      <td>0</td>\n",
              "      <td>Teen</td>\n",
              "      <td>Art &amp; Design</td>\n",
              "      <td>June 8, 2018</td>\n",
              "      <td>Varies with device</td>\n",
              "      <td>4.2 and up</td>\n",
              "    </tr>\n",
              "    <tr>\n",
              "      <th>4</th>\n",
              "      <td>Pixel Draw - Number Art Coloring Book</td>\n",
              "      <td>ART_AND_DESIGN</td>\n",
              "      <td>4.3</td>\n",
              "      <td>967</td>\n",
              "      <td>2.8M</td>\n",
              "      <td>100,000+</td>\n",
              "      <td>Free</td>\n",
              "      <td>0</td>\n",
              "      <td>Everyone</td>\n",
              "      <td>Art &amp; Design;Creativity</td>\n",
              "      <td>June 20, 2018</td>\n",
              "      <td>1.1</td>\n",
              "      <td>4.4 and up</td>\n",
              "    </tr>\n",
              "  </tbody>\n",
              "</table>\n",
              "</div>\n",
              "      <button class=\"colab-df-convert\" onclick=\"convertToInteractive('df-1d22cd0a-8c6b-4e4d-a9dc-5938ecc82924')\"\n",
              "              title=\"Convert this dataframe to an interactive table.\"\n",
              "              style=\"display:none;\">\n",
              "        \n",
              "  <svg xmlns=\"http://www.w3.org/2000/svg\" height=\"24px\"viewBox=\"0 0 24 24\"\n",
              "       width=\"24px\">\n",
              "    <path d=\"M0 0h24v24H0V0z\" fill=\"none\"/>\n",
              "    <path d=\"M18.56 5.44l.94 2.06.94-2.06 2.06-.94-2.06-.94-.94-2.06-.94 2.06-2.06.94zm-11 1L8.5 8.5l.94-2.06 2.06-.94-2.06-.94L8.5 2.5l-.94 2.06-2.06.94zm10 10l.94 2.06.94-2.06 2.06-.94-2.06-.94-.94-2.06-.94 2.06-2.06.94z\"/><path d=\"M17.41 7.96l-1.37-1.37c-.4-.4-.92-.59-1.43-.59-.52 0-1.04.2-1.43.59L10.3 9.45l-7.72 7.72c-.78.78-.78 2.05 0 2.83L4 21.41c.39.39.9.59 1.41.59.51 0 1.02-.2 1.41-.59l7.78-7.78 2.81-2.81c.8-.78.8-2.07 0-2.86zM5.41 20L4 18.59l7.72-7.72 1.47 1.35L5.41 20z\"/>\n",
              "  </svg>\n",
              "      </button>\n",
              "      \n",
              "  <style>\n",
              "    .colab-df-container {\n",
              "      display:flex;\n",
              "      flex-wrap:wrap;\n",
              "      gap: 12px;\n",
              "    }\n",
              "\n",
              "    .colab-df-convert {\n",
              "      background-color: #E8F0FE;\n",
              "      border: none;\n",
              "      border-radius: 50%;\n",
              "      cursor: pointer;\n",
              "      display: none;\n",
              "      fill: #1967D2;\n",
              "      height: 32px;\n",
              "      padding: 0 0 0 0;\n",
              "      width: 32px;\n",
              "    }\n",
              "\n",
              "    .colab-df-convert:hover {\n",
              "      background-color: #E2EBFA;\n",
              "      box-shadow: 0px 1px 2px rgba(60, 64, 67, 0.3), 0px 1px 3px 1px rgba(60, 64, 67, 0.15);\n",
              "      fill: #174EA6;\n",
              "    }\n",
              "\n",
              "    [theme=dark] .colab-df-convert {\n",
              "      background-color: #3B4455;\n",
              "      fill: #D2E3FC;\n",
              "    }\n",
              "\n",
              "    [theme=dark] .colab-df-convert:hover {\n",
              "      background-color: #434B5C;\n",
              "      box-shadow: 0px 1px 3px 1px rgba(0, 0, 0, 0.15);\n",
              "      filter: drop-shadow(0px 1px 2px rgba(0, 0, 0, 0.3));\n",
              "      fill: #FFFFFF;\n",
              "    }\n",
              "  </style>\n",
              "\n",
              "      <script>\n",
              "        const buttonEl =\n",
              "          document.querySelector('#df-1d22cd0a-8c6b-4e4d-a9dc-5938ecc82924 button.colab-df-convert');\n",
              "        buttonEl.style.display =\n",
              "          google.colab.kernel.accessAllowed ? 'block' : 'none';\n",
              "\n",
              "        async function convertToInteractive(key) {\n",
              "          const element = document.querySelector('#df-1d22cd0a-8c6b-4e4d-a9dc-5938ecc82924');\n",
              "          const dataTable =\n",
              "            await google.colab.kernel.invokeFunction('convertToInteractive',\n",
              "                                                     [key], {});\n",
              "          if (!dataTable) return;\n",
              "\n",
              "          const docLinkHtml = 'Like what you see? Visit the ' +\n",
              "            '<a target=\"_blank\" href=https://colab.research.google.com/notebooks/data_table.ipynb>data table notebook</a>'\n",
              "            + ' to learn more about interactive tables.';\n",
              "          element.innerHTML = '';\n",
              "          dataTable['output_type'] = 'display_data';\n",
              "          await google.colab.output.renderOutput(dataTable, element);\n",
              "          const docLink = document.createElement('div');\n",
              "          docLink.innerHTML = docLinkHtml;\n",
              "          element.appendChild(docLink);\n",
              "        }\n",
              "      </script>\n",
              "    </div>\n",
              "  </div>\n",
              "  "
            ],
            "text/plain": [
              "                                                 App        Category  Rating  \\\n",
              "0     Photo Editor & Candy Camera & Grid & ScrapBook  ART_AND_DESIGN     4.1   \n",
              "1                                Coloring book moana  ART_AND_DESIGN     3.9   \n",
              "2  U Launcher Lite – FREE Live Cool Themes, Hide ...  ART_AND_DESIGN     4.7   \n",
              "3                              Sketch - Draw & Paint  ART_AND_DESIGN     4.5   \n",
              "4              Pixel Draw - Number Art Coloring Book  ART_AND_DESIGN     4.3   \n",
              "\n",
              "  Reviews  Size     Installs  Type Price Content Rating  \\\n",
              "0     159   19M      10,000+  Free     0       Everyone   \n",
              "1     967   14M     500,000+  Free     0       Everyone   \n",
              "2   87510  8.7M   5,000,000+  Free     0       Everyone   \n",
              "3  215644   25M  50,000,000+  Free     0           Teen   \n",
              "4     967  2.8M     100,000+  Free     0       Everyone   \n",
              "\n",
              "                      Genres      Last Updated         Current Ver  \\\n",
              "0               Art & Design   January 7, 2018               1.0.0   \n",
              "1  Art & Design;Pretend Play  January 15, 2018               2.0.0   \n",
              "2               Art & Design    August 1, 2018               1.2.4   \n",
              "3               Art & Design      June 8, 2018  Varies with device   \n",
              "4    Art & Design;Creativity     June 20, 2018                 1.1   \n",
              "\n",
              "    Android Ver  \n",
              "0  4.0.3 and up  \n",
              "1  4.0.3 and up  \n",
              "2  4.0.3 and up  \n",
              "3    4.2 and up  \n",
              "4    4.4 and up  "
            ]
          },
          "execution_count": 7,
          "metadata": {},
          "output_type": "execute_result"
        }
      ],
      "source": [
        "df.head()"
      ],
      "id": "f8ca12e2"
    },
    {
      "cell_type": "code",
      "execution_count": null,
      "metadata": {
        "colab": {
          "base_uri": "https://localhost:8080/"
        },
        "id": "d4bb86b6",
        "outputId": "ba9e8203-f894-42a0-c956-ba289058d152",
        "scrolled": true
      },
      "outputs": [
        {
          "name": "stdout",
          "output_type": "stream",
          "text": [
            "<class 'pandas.core.frame.DataFrame'>\n",
            "Int64Index: 9366 entries, 0 to 10840\n",
            "Data columns (total 13 columns):\n",
            " #   Column          Non-Null Count  Dtype  \n",
            "---  ------          --------------  -----  \n",
            " 0   App             9366 non-null   object \n",
            " 1   Category        9366 non-null   object \n",
            " 2   Rating          9366 non-null   float64\n",
            " 3   Reviews         9366 non-null   object \n",
            " 4   Size            9366 non-null   object \n",
            " 5   Installs        9366 non-null   object \n",
            " 6   Type            9366 non-null   object \n",
            " 7   Price           9366 non-null   object \n",
            " 8   Content Rating  9366 non-null   object \n",
            " 9   Genres          9366 non-null   object \n",
            " 10  Last Updated    9366 non-null   object \n",
            " 11  Current Ver     9362 non-null   object \n",
            " 12  Android Ver     9364 non-null   object \n",
            "dtypes: float64(1), object(12)\n",
            "memory usage: 1.0+ MB\n"
          ]
        }
      ],
      "source": [
        "df.info()"
      ],
      "id": "d4bb86b6"
    },
    {
      "cell_type": "code",
      "execution_count": null,
      "metadata": {
        "colab": {
          "base_uri": "https://localhost:8080/"
        },
        "id": "bda63374",
        "outputId": "4a3f55b0-ca3c-41c6-a2ca-a2203454d400"
      },
      "outputs": [
        {
          "data": {
            "text/plain": [
              "(9366, 13)"
            ]
          },
          "execution_count": 9,
          "metadata": {},
          "output_type": "execute_result"
        }
      ],
      "source": [
        "df.shape"
      ],
      "id": "bda63374"
    },
    {
      "cell_type": "markdown",
      "metadata": {
        "id": "751b40fc"
      },
      "source": [
        "## Visualization of Data"
      ],
      "id": "751b40fc"
    },
    {
      "cell_type": "code",
      "execution_count": null,
      "metadata": {
        "colab": {
          "base_uri": "https://localhost:8080/"
        },
        "id": "33ca2a30",
        "outputId": "fb2aff57-4337-47fb-dae8-ba91e48504a8"
      },
      "outputs": [
        {
          "data": {
            "text/plain": [
              "count    9366.000000\n",
              "mean        4.191757\n",
              "std         0.515219\n",
              "min         1.000000\n",
              "25%         4.000000\n",
              "50%         4.300000\n",
              "75%         4.500000\n",
              "max         5.000000\n",
              "Name: Rating, dtype: float64"
            ]
          },
          "execution_count": 10,
          "metadata": {},
          "output_type": "execute_result"
        }
      ],
      "source": [
        "df['Rating'].describe()"
      ],
      "id": "33ca2a30"
    },
    {
      "cell_type": "code",
      "execution_count": null,
      "metadata": {
        "colab": {
          "base_uri": "https://localhost:8080/"
        },
        "id": "f8a5b6ba",
        "outputId": "e862c676-10c7-49ed-ac13-9824800654bd"
      },
      "outputs": [
        {
          "data": {
            "text/plain": [
              "4.4    1109\n",
              "4.3    1076\n",
              "4.5    1038\n",
              "4.2     952\n",
              "4.6     823\n",
              "4.1     708\n",
              "4.0     568\n",
              "4.7     499\n",
              "3.9     386\n",
              "3.8     303\n",
              "5.0     274\n",
              "3.7     239\n",
              "4.8     234\n",
              "3.6     174\n",
              "3.5     163\n",
              "3.4     128\n",
              "3.3     102\n",
              "4.9      87\n",
              "3.0      83\n",
              "3.1      69\n",
              "3.2      64\n",
              "2.9      45\n",
              "2.8      42\n",
              "2.7      25\n",
              "2.6      25\n",
              "2.5      21\n",
              "2.3      20\n",
              "2.4      19\n",
              "1.0      16\n",
              "2.2      14\n",
              "1.9      13\n",
              "2.0      12\n",
              "1.7       8\n",
              "1.8       8\n",
              "2.1       8\n",
              "1.6       4\n",
              "1.4       3\n",
              "1.5       3\n",
              "1.2       1\n",
              "Name: Rating, dtype: int64"
            ]
          },
          "execution_count": 11,
          "metadata": {},
          "output_type": "execute_result"
        }
      ],
      "source": [
        "df['Rating'].value_counts()"
      ],
      "id": "f8a5b6ba"
    },
    {
      "cell_type": "markdown",
      "metadata": {
        "id": "eadef4a4"
      },
      "source": [
        "## Changing Data Objects"
      ],
      "id": "eadef4a4"
    },
    {
      "cell_type": "code",
      "execution_count": null,
      "metadata": {
        "id": "091fcec3"
      },
      "outputs": [],
      "source": [
        "df['Installs'] = df['Installs'].str.replace('+', '',regex=True)\n",
        "df['Installs'] = df['Installs'].str.replace(',', '').astype(int)"
      ],
      "id": "091fcec3"
    },
    {
      "cell_type": "code",
      "execution_count": null,
      "metadata": {
        "id": "9084144c"
      },
      "outputs": [],
      "source": [
        "def convert_size(size):\n",
        "    if size.endswith('M'):\n",
        "        return int(float(size[:-1]) * 1000)\n",
        "    elif size.endswith('k'):\n",
        "        return int(float(size[:-1]))\n",
        "    else:\n",
        "        return int(-1)\n",
        "\n",
        "df['Size'] = df['Size'].apply(convert_size).astype(int)"
      ],
      "id": "9084144c"
    },
    {
      "cell_type": "code",
      "execution_count": null,
      "metadata": {
        "id": "f7457154"
      },
      "outputs": [],
      "source": [
        "conditions = [\n",
        "    df['Type'].str.lower() == 'free',\n",
        "    df['Type'].str.lower() == 'paid'\n",
        "]\n",
        "choices = [0, 1]\n",
        "\n",
        "df['Type'] = np.select(conditions, choices, default=-1)"
      ],
      "id": "f7457154"
    },
    {
      "cell_type": "code",
      "execution_count": null,
      "metadata": {
        "id": "1d6027d7"
      },
      "outputs": [],
      "source": [
        "df['Price'] = df['Price'].str.replace('$', '',regex=True)\n",
        "\n",
        "df['Price'] = df['Price'].astype(float)"
      ],
      "id": "1d6027d7"
    },
    {
      "cell_type": "code",
      "execution_count": null,
      "metadata": {
        "id": "2e723414"
      },
      "outputs": [],
      "source": [
        "from sklearn.preprocessing import LabelEncoder\n",
        "\n",
        "# Assuming your dataframe is named df and you have a list of columns to encode\n",
        "columns_to_encode = ['Content Rating', 'Category', 'Genres', 'Current Ver','Android Ver']\n",
        "\n",
        "# Create an instance of LabelEncoder\n",
        "label_encoder = LabelEncoder()\n",
        "\n",
        "# Iterate over the columns and apply label encoding\n",
        "for column in columns_to_encode:\n",
        "    df[column] = label_encoder.fit_transform(df[column])"
      ],
      "id": "2e723414"
    },
    {
      "cell_type": "code",
      "execution_count": null,
      "metadata": {
        "id": "bd00b465"
      },
      "outputs": [],
      "source": [
        "def convert_to_integer(date_str):\n",
        "    date_object = datetime.strptime(date_str, \"%B %d, %Y\")\n",
        "    date_integer = int(date_object.strftime(\"%Y%m%d\"))\n",
        "    return date_integer\n",
        "\n",
        "# Apply the conversion function to the 'Date' column\n",
        "df['Last Updated'] = df['Last Updated'].apply(convert_to_integer)"
      ],
      "id": "bd00b465"
    },
    {
      "cell_type": "markdown",
      "metadata": {
        "id": "0fda5425"
      },
      "source": [
        "## Normalizing Data"
      ],
      "id": "0fda5425"
    },
    {
      "cell_type": "code",
      "execution_count": null,
      "metadata": {
        "id": "e205cde5"
      },
      "outputs": [],
      "source": [
        "from sklearn.preprocessing import StandardScaler, MinMaxScaler\n",
        "\n",
        "columns_to_normalize = ['Size', 'Installs', 'Last Updated','Reviews']\n",
        "\n",
        "# Create an instance of the best normalization scaler\n",
        "# Here, we use StandardScaler as an example\n",
        "scaler = MinMaxScaler()  # or MinMaxScaler()\n",
        "\n",
        "# Normalize the selected columns\n",
        "df[columns_to_normalize] = scaler.fit_transform(df[columns_to_normalize])"
      ],
      "id": "e205cde5"
    },
    {
      "cell_type": "markdown",
      "metadata": {
        "id": "403980ce"
      },
      "source": [
        "## Final Dataframe"
      ],
      "id": "403980ce"
    },
    {
      "cell_type": "code",
      "execution_count": null,
      "metadata": {
        "colab": {
          "base_uri": "https://localhost:8080/",
          "height": 493
        },
        "id": "dc586d65",
        "outputId": "5d13cb3d-74d3-4a95-89a0-6dd61f1eb122"
      },
      "outputs": [
        {
          "data": {
            "text/html": [
              "\n",
              "  <div id=\"df-6f7150f9-2c1a-457a-a01f-1b33be32e289\">\n",
              "    <div class=\"colab-df-container\">\n",
              "      <div>\n",
              "<style scoped>\n",
              "    .dataframe tbody tr th:only-of-type {\n",
              "        vertical-align: middle;\n",
              "    }\n",
              "\n",
              "    .dataframe tbody tr th {\n",
              "        vertical-align: top;\n",
              "    }\n",
              "\n",
              "    .dataframe thead th {\n",
              "        text-align: right;\n",
              "    }\n",
              "</style>\n",
              "<table border=\"1\" class=\"dataframe\">\n",
              "  <thead>\n",
              "    <tr style=\"text-align: right;\">\n",
              "      <th></th>\n",
              "      <th>App</th>\n",
              "      <th>Category</th>\n",
              "      <th>Rating</th>\n",
              "      <th>Reviews</th>\n",
              "      <th>Size</th>\n",
              "      <th>Installs</th>\n",
              "      <th>Type</th>\n",
              "      <th>Price</th>\n",
              "      <th>Content Rating</th>\n",
              "      <th>Genres</th>\n",
              "      <th>Last Updated</th>\n",
              "      <th>Current Ver</th>\n",
              "      <th>Android Ver</th>\n",
              "    </tr>\n",
              "  </thead>\n",
              "  <tbody>\n",
              "    <tr>\n",
              "      <th>0</th>\n",
              "      <td>Photo Editor &amp; Candy Camera &amp; Grid &amp; ScrapBook</td>\n",
              "      <td>0</td>\n",
              "      <td>4.1</td>\n",
              "      <td>0.000002</td>\n",
              "      <td>0.190008</td>\n",
              "      <td>0.00001</td>\n",
              "      <td>0</td>\n",
              "      <td>0.0</td>\n",
              "      <td>1</td>\n",
              "      <td>9</td>\n",
              "      <td>0.991269</td>\n",
              "      <td>107</td>\n",
              "      <td>14</td>\n",
              "    </tr>\n",
              "    <tr>\n",
              "      <th>1</th>\n",
              "      <td>Coloring book moana</td>\n",
              "      <td>0</td>\n",
              "      <td>3.9</td>\n",
              "      <td>0.000012</td>\n",
              "      <td>0.140009</td>\n",
              "      <td>0.00050</td>\n",
              "      <td>0</td>\n",
              "      <td>0.0</td>\n",
              "      <td>1</td>\n",
              "      <td>11</td>\n",
              "      <td>0.991368</td>\n",
              "      <td>952</td>\n",
              "      <td>14</td>\n",
              "    </tr>\n",
              "    <tr>\n",
              "      <th>2</th>\n",
              "      <td>U Launcher Lite – FREE Live Cool Themes, Hide ...</td>\n",
              "      <td>0</td>\n",
              "      <td>4.7</td>\n",
              "      <td>0.001120</td>\n",
              "      <td>0.087009</td>\n",
              "      <td>0.00500</td>\n",
              "      <td>0</td>\n",
              "      <td>0.0</td>\n",
              "      <td>1</td>\n",
              "      <td>9</td>\n",
              "      <td>0.999913</td>\n",
              "      <td>424</td>\n",
              "      <td>14</td>\n",
              "    </tr>\n",
              "    <tr>\n",
              "      <th>3</th>\n",
              "      <td>Sketch - Draw &amp; Paint</td>\n",
              "      <td>0</td>\n",
              "      <td>4.5</td>\n",
              "      <td>0.002759</td>\n",
              "      <td>0.250007</td>\n",
              "      <td>0.05000</td>\n",
              "      <td>0</td>\n",
              "      <td>0.0</td>\n",
              "      <td>4</td>\n",
              "      <td>9</td>\n",
              "      <td>0.997509</td>\n",
              "      <td>2582</td>\n",
              "      <td>17</td>\n",
              "    </tr>\n",
              "    <tr>\n",
              "      <th>4</th>\n",
              "      <td>Pixel Draw - Number Art Coloring Book</td>\n",
              "      <td>0</td>\n",
              "      <td>4.3</td>\n",
              "      <td>0.000012</td>\n",
              "      <td>0.028010</td>\n",
              "      <td>0.00010</td>\n",
              "      <td>0</td>\n",
              "      <td>0.0</td>\n",
              "      <td>1</td>\n",
              "      <td>10</td>\n",
              "      <td>0.997658</td>\n",
              "      <td>250</td>\n",
              "      <td>19</td>\n",
              "    </tr>\n",
              "    <tr>\n",
              "      <th>5</th>\n",
              "      <td>Paper flowers instructions</td>\n",
              "      <td>0</td>\n",
              "      <td>4.4</td>\n",
              "      <td>0.000002</td>\n",
              "      <td>0.056009</td>\n",
              "      <td>0.00005</td>\n",
              "      <td>0</td>\n",
              "      <td>0.0</td>\n",
              "      <td>1</td>\n",
              "      <td>9</td>\n",
              "      <td>0.869443</td>\n",
              "      <td>103</td>\n",
              "      <td>7</td>\n",
              "    </tr>\n",
              "    <tr>\n",
              "      <th>6</th>\n",
              "      <td>Smoke Effect Photo Maker - Smoke Editor</td>\n",
              "      <td>0</td>\n",
              "      <td>3.8</td>\n",
              "      <td>0.000002</td>\n",
              "      <td>0.190008</td>\n",
              "      <td>0.00005</td>\n",
              "      <td>0</td>\n",
              "      <td>0.0</td>\n",
              "      <td>1</td>\n",
              "      <td>9</td>\n",
              "      <td>0.995242</td>\n",
              "      <td>250</td>\n",
              "      <td>14</td>\n",
              "    </tr>\n",
              "    <tr>\n",
              "      <th>7</th>\n",
              "      <td>Infinite Painter</td>\n",
              "      <td>0</td>\n",
              "      <td>4.1</td>\n",
              "      <td>0.000471</td>\n",
              "      <td>0.290007</td>\n",
              "      <td>0.00100</td>\n",
              "      <td>0</td>\n",
              "      <td>0.0</td>\n",
              "      <td>1</td>\n",
              "      <td>9</td>\n",
              "      <td>0.997584</td>\n",
              "      <td>2239</td>\n",
              "      <td>17</td>\n",
              "    </tr>\n",
              "    <tr>\n",
              "      <th>8</th>\n",
              "      <td>Garden Coloring Book</td>\n",
              "      <td>0</td>\n",
              "      <td>4.4</td>\n",
              "      <td>0.000176</td>\n",
              "      <td>0.330007</td>\n",
              "      <td>0.00100</td>\n",
              "      <td>0</td>\n",
              "      <td>0.0</td>\n",
              "      <td>1</td>\n",
              "      <td>9</td>\n",
              "      <td>0.876842</td>\n",
              "      <td>1365</td>\n",
              "      <td>9</td>\n",
              "    </tr>\n",
              "    <tr>\n",
              "      <th>9</th>\n",
              "      <td>Kids Paint Free - Drawing Fun</td>\n",
              "      <td>0</td>\n",
              "      <td>4.7</td>\n",
              "      <td>0.000002</td>\n",
              "      <td>0.031010</td>\n",
              "      <td>0.00001</td>\n",
              "      <td>0</td>\n",
              "      <td>0.0</td>\n",
              "      <td>1</td>\n",
              "      <td>10</td>\n",
              "      <td>0.998692</td>\n",
              "      <td>1340</td>\n",
              "      <td>14</td>\n",
              "    </tr>\n",
              "  </tbody>\n",
              "</table>\n",
              "</div>\n",
              "      <button class=\"colab-df-convert\" onclick=\"convertToInteractive('df-6f7150f9-2c1a-457a-a01f-1b33be32e289')\"\n",
              "              title=\"Convert this dataframe to an interactive table.\"\n",
              "              style=\"display:none;\">\n",
              "        \n",
              "  <svg xmlns=\"http://www.w3.org/2000/svg\" height=\"24px\"viewBox=\"0 0 24 24\"\n",
              "       width=\"24px\">\n",
              "    <path d=\"M0 0h24v24H0V0z\" fill=\"none\"/>\n",
              "    <path d=\"M18.56 5.44l.94 2.06.94-2.06 2.06-.94-2.06-.94-.94-2.06-.94 2.06-2.06.94zm-11 1L8.5 8.5l.94-2.06 2.06-.94-2.06-.94L8.5 2.5l-.94 2.06-2.06.94zm10 10l.94 2.06.94-2.06 2.06-.94-2.06-.94-.94-2.06-.94 2.06-2.06.94z\"/><path d=\"M17.41 7.96l-1.37-1.37c-.4-.4-.92-.59-1.43-.59-.52 0-1.04.2-1.43.59L10.3 9.45l-7.72 7.72c-.78.78-.78 2.05 0 2.83L4 21.41c.39.39.9.59 1.41.59.51 0 1.02-.2 1.41-.59l7.78-7.78 2.81-2.81c.8-.78.8-2.07 0-2.86zM5.41 20L4 18.59l7.72-7.72 1.47 1.35L5.41 20z\"/>\n",
              "  </svg>\n",
              "      </button>\n",
              "      \n",
              "  <style>\n",
              "    .colab-df-container {\n",
              "      display:flex;\n",
              "      flex-wrap:wrap;\n",
              "      gap: 12px;\n",
              "    }\n",
              "\n",
              "    .colab-df-convert {\n",
              "      background-color: #E8F0FE;\n",
              "      border: none;\n",
              "      border-radius: 50%;\n",
              "      cursor: pointer;\n",
              "      display: none;\n",
              "      fill: #1967D2;\n",
              "      height: 32px;\n",
              "      padding: 0 0 0 0;\n",
              "      width: 32px;\n",
              "    }\n",
              "\n",
              "    .colab-df-convert:hover {\n",
              "      background-color: #E2EBFA;\n",
              "      box-shadow: 0px 1px 2px rgba(60, 64, 67, 0.3), 0px 1px 3px 1px rgba(60, 64, 67, 0.15);\n",
              "      fill: #174EA6;\n",
              "    }\n",
              "\n",
              "    [theme=dark] .colab-df-convert {\n",
              "      background-color: #3B4455;\n",
              "      fill: #D2E3FC;\n",
              "    }\n",
              "\n",
              "    [theme=dark] .colab-df-convert:hover {\n",
              "      background-color: #434B5C;\n",
              "      box-shadow: 0px 1px 3px 1px rgba(0, 0, 0, 0.15);\n",
              "      filter: drop-shadow(0px 1px 2px rgba(0, 0, 0, 0.3));\n",
              "      fill: #FFFFFF;\n",
              "    }\n",
              "  </style>\n",
              "\n",
              "      <script>\n",
              "        const buttonEl =\n",
              "          document.querySelector('#df-6f7150f9-2c1a-457a-a01f-1b33be32e289 button.colab-df-convert');\n",
              "        buttonEl.style.display =\n",
              "          google.colab.kernel.accessAllowed ? 'block' : 'none';\n",
              "\n",
              "        async function convertToInteractive(key) {\n",
              "          const element = document.querySelector('#df-6f7150f9-2c1a-457a-a01f-1b33be32e289');\n",
              "          const dataTable =\n",
              "            await google.colab.kernel.invokeFunction('convertToInteractive',\n",
              "                                                     [key], {});\n",
              "          if (!dataTable) return;\n",
              "\n",
              "          const docLinkHtml = 'Like what you see? Visit the ' +\n",
              "            '<a target=\"_blank\" href=https://colab.research.google.com/notebooks/data_table.ipynb>data table notebook</a>'\n",
              "            + ' to learn more about interactive tables.';\n",
              "          element.innerHTML = '';\n",
              "          dataTable['output_type'] = 'display_data';\n",
              "          await google.colab.output.renderOutput(dataTable, element);\n",
              "          const docLink = document.createElement('div');\n",
              "          docLink.innerHTML = docLinkHtml;\n",
              "          element.appendChild(docLink);\n",
              "        }\n",
              "      </script>\n",
              "    </div>\n",
              "  </div>\n",
              "  "
            ],
            "text/plain": [
              "                                                 App  Category  Rating  \\\n",
              "0     Photo Editor & Candy Camera & Grid & ScrapBook         0     4.1   \n",
              "1                                Coloring book moana         0     3.9   \n",
              "2  U Launcher Lite – FREE Live Cool Themes, Hide ...         0     4.7   \n",
              "3                              Sketch - Draw & Paint         0     4.5   \n",
              "4              Pixel Draw - Number Art Coloring Book         0     4.3   \n",
              "5                         Paper flowers instructions         0     4.4   \n",
              "6            Smoke Effect Photo Maker - Smoke Editor         0     3.8   \n",
              "7                                   Infinite Painter         0     4.1   \n",
              "8                               Garden Coloring Book         0     4.4   \n",
              "9                      Kids Paint Free - Drawing Fun         0     4.7   \n",
              "\n",
              "    Reviews      Size  Installs  Type  Price  Content Rating  Genres  \\\n",
              "0  0.000002  0.190008   0.00001     0    0.0               1       9   \n",
              "1  0.000012  0.140009   0.00050     0    0.0               1      11   \n",
              "2  0.001120  0.087009   0.00500     0    0.0               1       9   \n",
              "3  0.002759  0.250007   0.05000     0    0.0               4       9   \n",
              "4  0.000012  0.028010   0.00010     0    0.0               1      10   \n",
              "5  0.000002  0.056009   0.00005     0    0.0               1       9   \n",
              "6  0.000002  0.190008   0.00005     0    0.0               1       9   \n",
              "7  0.000471  0.290007   0.00100     0    0.0               1       9   \n",
              "8  0.000176  0.330007   0.00100     0    0.0               1       9   \n",
              "9  0.000002  0.031010   0.00001     0    0.0               1      10   \n",
              "\n",
              "   Last Updated  Current Ver  Android Ver  \n",
              "0      0.991269          107           14  \n",
              "1      0.991368          952           14  \n",
              "2      0.999913          424           14  \n",
              "3      0.997509         2582           17  \n",
              "4      0.997658          250           19  \n",
              "5      0.869443          103            7  \n",
              "6      0.995242          250           14  \n",
              "7      0.997584         2239           17  \n",
              "8      0.876842         1365            9  \n",
              "9      0.998692         1340           14  "
            ]
          },
          "execution_count": 19,
          "metadata": {},
          "output_type": "execute_result"
        }
      ],
      "source": [
        "df.head(10)"
      ],
      "id": "dc586d65"
    },
    {
      "cell_type": "code",
      "execution_count": null,
      "metadata": {
        "colab": {
          "base_uri": "https://localhost:8080/"
        },
        "id": "0bf9af24",
        "outputId": "23b30aed-972d-42df-a7ce-2cd7ff77b37c"
      },
      "outputs": [
        {
          "name": "stdout",
          "output_type": "stream",
          "text": [
            "<class 'pandas.core.frame.DataFrame'>\n",
            "Int64Index: 9366 entries, 0 to 10840\n",
            "Data columns (total 13 columns):\n",
            " #   Column          Non-Null Count  Dtype  \n",
            "---  ------          --------------  -----  \n",
            " 0   App             9366 non-null   object \n",
            " 1   Category        9366 non-null   int64  \n",
            " 2   Rating          9366 non-null   float64\n",
            " 3   Reviews         9366 non-null   float64\n",
            " 4   Size            9366 non-null   float64\n",
            " 5   Installs        9366 non-null   float64\n",
            " 6   Type            9366 non-null   int64  \n",
            " 7   Price           9366 non-null   float64\n",
            " 8   Content Rating  9366 non-null   int64  \n",
            " 9   Genres          9366 non-null   int64  \n",
            " 10  Last Updated    9366 non-null   float64\n",
            " 11  Current Ver     9366 non-null   int64  \n",
            " 12  Android Ver     9366 non-null   int64  \n",
            "dtypes: float64(6), int64(6), object(1)\n",
            "memory usage: 1.0+ MB\n"
          ]
        }
      ],
      "source": [
        "df.info()"
      ],
      "id": "0bf9af24"
    },
    {
      "cell_type": "markdown",
      "metadata": {
        "id": "eed3788c"
      },
      "source": [
        "## Finding Co-relations"
      ],
      "id": "eed3788c"
    },
    {
      "cell_type": "code",
      "execution_count": null,
      "metadata": {
        "colab": {
          "base_uri": "https://localhost:8080/"
        },
        "id": "e2f21e07",
        "outputId": "af62b0b2-f017-4b0b-980e-15d496822f00"
      },
      "outputs": [
        {
          "name": "stderr",
          "output_type": "stream",
          "text": [
            "<ipython-input-21-f0bec3f877a7>:1: FutureWarning: The default value of numeric_only in DataFrame.corr is deprecated. In a future version, it will default to False. Select only valid columns or specify the value of numeric_only to silence this warning.\n",
            "  corr_matrix = df.corr()\n"
          ]
        },
        {
          "data": {
            "text/plain": [
              "Rating            1.000000\n",
              "Last Updated      0.138602\n",
              "Android Ver       0.076248\n",
              "Reviews           0.068141\n",
              "Installs          0.051355\n",
              "Current Ver       0.050569\n",
              "Size              0.045789\n",
              "Type              0.039581\n",
              "Content Rating    0.019868\n",
              "Price            -0.021903\n",
              "Category         -0.034603\n",
              "Genres           -0.046478\n",
              "Name: Rating, dtype: float64"
            ]
          },
          "execution_count": 21,
          "metadata": {},
          "output_type": "execute_result"
        }
      ],
      "source": [
        "corr_matrix = df.corr()\n",
        "corr_matrix['Rating'].sort_values(ascending=False)"
      ],
      "id": "e2f21e07"
    },
    {
      "cell_type": "markdown",
      "metadata": {
        "id": "e035eb9d"
      },
      "source": [
        "## Making Model"
      ],
      "id": "e035eb9d"
    },
    {
      "cell_type": "code",
      "execution_count": null,
      "metadata": {
        "colab": {
          "base_uri": "https://localhost:8080/"
        },
        "id": "f48471ef",
        "outputId": "f99ce34c-8d32-477f-b1ab-eb432ef4fbb7"
      },
      "outputs": [
        {
          "name": "stdout",
          "output_type": "stream",
          "text": [
            "Mean Squared Error: 0.2403257340787919\n"
          ]
        }
      ],
      "source": [
        "import pandas as pd\n",
        "from sklearn.model_selection import train_test_split\n",
        "from sklearn.linear_model import LinearRegression\n",
        "\n",
        "# Assuming you have a dataframe named df with numerical features and a target column 'Rating'\n",
        "\n",
        "# Split the data into input features (X) and target variable (y)\n",
        "X = df.drop(['Rating','App'], axis=1)  # Select all columns except 'Rating' as input features\n",
        "y = df['Rating']  # Select 'Rating' column as the target variable\n",
        "\n",
        "# Split the data into train and test sets\n",
        "X_train, X_test, y_train, y_test = train_test_split(X, y, test_size=0.3, random_state=42)\n",
        "\n",
        "# Train the linear regression model\n",
        "model = LinearRegression()\n",
        "model.fit(X_train, y_train)\n",
        "\n",
        "y_pred = model.predict(X_test)\n",
        "\n",
        "from sklearn.metrics import mean_squared_error\n",
        "mse = mean_squared_error(y_test, y_pred)\n",
        "print(f\"Mean Squared Error: {mse}\")"
      ],
      "id": "f48471ef"
    },
    {
      "cell_type": "markdown",
      "metadata": {
        "id": "6d848362"
      },
      "source": [
        "## Cross Validation Techniques"
      ],
      "id": "6d848362"
    },
    {
      "cell_type": "code",
      "execution_count": null,
      "metadata": {
        "colab": {
          "base_uri": "https://localhost:8080/"
        },
        "id": "5b8d891b",
        "outputId": "21ab75dd-d296-4c5c-a31e-6f14be1148ae"
      },
      "outputs": [
        {
          "name": "stdout",
          "output_type": "stream",
          "text": [
            "Cross-Validation Scores:\n",
            "[0.1961255  0.12659275 0.09933982 0.16976473 0.09061952 0.0989752\n",
            " 0.23873553 0.33933702 0.28828544 0.41037103 0.44030459 0.35666173\n",
            " 0.3939126  0.27868317 0.36153408]\n",
            "Mean CV Score: 0.2592828465141547\n",
            "Std CV Score: 0.11861553301443255\n"
          ]
        }
      ],
      "source": [
        "import numpy as np\n",
        "from sklearn.model_selection import cross_val_score\n",
        "\n",
        "# Assuming you have already trained the linear regression model (model) and split the data (X, y)\n",
        "\n",
        "# Perform cross-validation\n",
        "cv_scores = cross_val_score(model, X, y, cv=15, scoring='neg_mean_squared_error')\n",
        "\n",
        "# Convert the negative mean squared errors to positive values\n",
        "cv_scores = -cv_scores\n",
        "\n",
        "# Compute the mean and standard deviation of the cross-validation scores\n",
        "mean_cv_score = np.mean(cv_scores)\n",
        "std_cv_score = np.std(cv_scores)\n",
        "\n",
        "print(\"Cross-Validation Scores:\")\n",
        "print(cv_scores)\n",
        "print(f\"Mean CV Score: {mean_cv_score}\")\n",
        "print(f\"Std CV Score: {std_cv_score}\")"
      ],
      "id": "5b8d891b"
    },
    {
      "cell_type": "markdown",
      "metadata": {
        "id": "d7e6c59b"
      },
      "source": [
        "## Plotting Learning Curves"
      ],
      "id": "d7e6c59b"
    },
    {
      "cell_type": "code",
      "execution_count": null,
      "metadata": {
        "colab": {
          "base_uri": "https://localhost:8080/",
          "height": 564
        },
        "id": "9fb59a37",
        "outputId": "55aeda35-a657-488f-a96b-87139733c38b"
      },
      "outputs": [
        {
          "data": {
            "image/png": "[encoded data removed]",
            "text/plain": [
              "<Figure size 1000x600 with 1 Axes>"
            ]
          },
          "metadata": {},
          "output_type": "display_data"
        }
      ],
      "source": [
        "import numpy as np\n",
        "import matplotlib.pyplot as plt\n",
        "from sklearn.model_selection import learning_curve\n",
        "\n",
        "def plot_learning_curve(estimator, X, y, cv, train_sizes=np.linspace(0.1, 1.0, 10)):\n",
        "    # Generate learning curve data\n",
        "    train_sizes, train_scores, validation_scores = learning_curve(\n",
        "        estimator, X, y, cv=cv, train_sizes=train_sizes, scoring='neg_mean_squared_error'\n",
        "    )\n",
        "\n",
        "    # Calculate mean and standard deviation of scores\n",
        "    train_scores_mean = -np.mean(train_scores, axis=1)\n",
        "    train_scores_std = np.std(train_scores, axis=1)\n",
        "    validation_scores_mean = -np.mean(validation_scores, axis=1)\n",
        "    validation_scores_std = np.std(validation_scores, axis=1)\n",
        "\n",
        "    # Plot learning curve\n",
        "    plt.figure(figsize=(10, 6))\n",
        "    plt.title('Learning Curve')\n",
        "    plt.xlabel('Training Examples')\n",
        "    plt.ylabel('Negative Mean Squared Error')\n",
        "\n",
        "    plt.plot(train_sizes, train_scores_mean, 'o-', color='b', label='Training Score')\n",
        "    plt.fill_between(\n",
        "        train_sizes, train_scores_mean - train_scores_std, train_scores_mean + train_scores_std, alpha=0.1, color='b'\n",
        "    )\n",
        "\n",
        "    plt.plot(train_sizes, validation_scores_mean, 'o-', color='r', label='Validation Score')\n",
        "    plt.fill_between(\n",
        "        train_sizes,\n",
        "        validation_scores_mean - validation_scores_std,\n",
        "        validation_scores_mean + validation_scores_std,\n",
        "        alpha=0.1,\n",
        "        color='r'\n",
        "    )\n",
        "\n",
        "    plt.legend(loc='best')\n",
        "    plt.grid(True)\n",
        "    plt.show()\n",
        "\n",
        "# Assuming you have a dataframe named df with numerical features and a target column 'Rating'\n",
        "\n",
        "# Split the data into input features (X) and target variable (y)\n",
        "X = df.drop(['Rating', 'App'], axis=1)  # Select all columns except 'Rating' as input features\n",
        "y = df['Rating']  # Select 'Rating' column as the target variable\n",
        "\n",
        "# Create an instance of the model you want to evaluate (e.g., Linear Regression, Decision Tree, etc.)\n",
        "model = LinearRegression()\n",
        "\n",
        "# Plot the learning curve\n",
        "plot_learning_curve(model, X, y, cv=5)\n"
      ],
      "id": "9fb59a37"
    },
    {
      "cell_type": "code",
      "execution_count": null,
      "metadata": {
        "id": "54afacc8"
      },
      "outputs": [],
      "source": [],
      "id": "54afacc8"
    },
    {
      "cell_type": "code",
      "execution_count": null,
      "metadata": {
        "id": "1d060048"
      },
      "outputs": [],
      "source": [],
      "id": "1d060048"
    },
    {
      "cell_type": "code",
      "execution_count": null,
      "metadata": {
        "id": "6ed1a855"
      },
      "outputs": [],
      "source": [
        "Rat = df[df['Rating'] < 3 ]"
      ],
      "id": "6ed1a855"
    },
    {
      "cell_type": "code",
      "execution_count": null,
      "metadata": {
        "colab": {
          "base_uri": "https://localhost:8080/",
          "height": 658
        },
        "id": "5f21ca74",
        "outputId": "fa5e062e-473f-41f8-88f1-dfd1d009f52d"
      },
      "outputs": [
        {
          "data": {
            "text/html": [
              "\n",
              "  <div id=\"df-799ebc69-d6cc-43eb-8d0a-06effb3a4582\">\n",
              "    <div class=\"colab-df-container\">\n",
              "      <div>\n",
              "<style scoped>\n",
              "    .dataframe tbody tr th:only-of-type {\n",
              "        vertical-align: middle;\n",
              "    }\n",
              "\n",
              "    .dataframe tbody tr th {\n",
              "        vertical-align: top;\n",
              "    }\n",
              "\n",
              "    .dataframe thead th {\n",
              "        text-align: right;\n",
              "    }\n",
              "</style>\n",
              "<table border=\"1\" class=\"dataframe\">\n",
              "  <thead>\n",
              "    <tr style=\"text-align: right;\">\n",
              "      <th></th>\n",
              "      <th>App</th>\n",
              "      <th>Category</th>\n",
              "      <th>Rating</th>\n",
              "      <th>Reviews</th>\n",
              "      <th>Size</th>\n",
              "      <th>Installs</th>\n",
              "      <th>Type</th>\n",
              "      <th>Price</th>\n",
              "      <th>Content Rating</th>\n",
              "      <th>Genres</th>\n",
              "      <th>Last Updated</th>\n",
              "      <th>Current Ver</th>\n",
              "      <th>Android Ver</th>\n",
              "    </tr>\n",
              "  </thead>\n",
              "  <tbody>\n",
              "    <tr>\n",
              "      <th>477</th>\n",
              "      <td>Calculator</td>\n",
              "      <td>7</td>\n",
              "      <td>2.6</td>\n",
              "      <td>7.164946e-07</td>\n",
              "      <td>0.062009</td>\n",
              "      <td>9.990000e-07</td>\n",
              "      <td>1</td>\n",
              "      <td>6.99</td>\n",
              "      <td>1</td>\n",
              "      <td>36</td>\n",
              "      <td>0.878150</td>\n",
              "      <td>293</td>\n",
              "      <td>12</td>\n",
              "    </tr>\n",
              "    <tr>\n",
              "      <th>518</th>\n",
              "      <td>Just She - Top Lesbian Dating</td>\n",
              "      <td>7</td>\n",
              "      <td>1.9</td>\n",
              "      <td>1.218041e-05</td>\n",
              "      <td>0.190008</td>\n",
              "      <td>9.999900e-05</td>\n",
              "      <td>0</td>\n",
              "      <td>0.00</td>\n",
              "      <td>3</td>\n",
              "      <td>36</td>\n",
              "      <td>0.998879</td>\n",
              "      <td>2278</td>\n",
              "      <td>23</td>\n",
              "    </tr>\n",
              "    <tr>\n",
              "      <th>520</th>\n",
              "      <td>EliteSingles – Dating for Single Professionals</td>\n",
              "      <td>7</td>\n",
              "      <td>2.5</td>\n",
              "      <td>6.878348e-05</td>\n",
              "      <td>0.190008</td>\n",
              "      <td>4.999990e-04</td>\n",
              "      <td>0</td>\n",
              "      <td>0.00</td>\n",
              "      <td>3</td>\n",
              "      <td>36</td>\n",
              "      <td>0.999041</td>\n",
              "      <td>1980</td>\n",
              "      <td>14</td>\n",
              "    </tr>\n",
              "    <tr>\n",
              "      <th>527</th>\n",
              "      <td>Sugar Daddy Dating App</td>\n",
              "      <td>7</td>\n",
              "      <td>2.5</td>\n",
              "      <td>3.531295e-06</td>\n",
              "      <td>0.057009</td>\n",
              "      <td>9.999900e-05</td>\n",
              "      <td>0</td>\n",
              "      <td>0.00</td>\n",
              "      <td>3</td>\n",
              "      <td>36</td>\n",
              "      <td>0.880379</td>\n",
              "      <td>1433</td>\n",
              "      <td>16</td>\n",
              "    </tr>\n",
              "    <tr>\n",
              "      <th>528</th>\n",
              "      <td>Adult Dirty Emojis</td>\n",
              "      <td>7</td>\n",
              "      <td>2.8</td>\n",
              "      <td>1.010769e-06</td>\n",
              "      <td>0.055009</td>\n",
              "      <td>9.999000e-06</td>\n",
              "      <td>0</td>\n",
              "      <td>0.00</td>\n",
              "      <td>4</td>\n",
              "      <td>36</td>\n",
              "      <td>0.879159</td>\n",
              "      <td>103</td>\n",
              "      <td>14</td>\n",
              "    </tr>\n",
              "    <tr>\n",
              "      <th>...</th>\n",
              "      <td>...</td>\n",
              "      <td>...</td>\n",
              "      <td>...</td>\n",
              "      <td>...</td>\n",
              "      <td>...</td>\n",
              "      <td>...</td>\n",
              "      <td>...</td>\n",
              "      <td>...</td>\n",
              "      <td>...</td>\n",
              "      <td>...</td>\n",
              "      <td>...</td>\n",
              "      <td>...</td>\n",
              "      <td>...</td>\n",
              "    </tr>\n",
              "    <tr>\n",
              "      <th>10624</th>\n",
              "      <td>Employ Florida Mobile</td>\n",
              "      <td>4</td>\n",
              "      <td>2.9</td>\n",
              "      <td>1.228276e-06</td>\n",
              "      <td>0.099009</td>\n",
              "      <td>9.999000e-06</td>\n",
              "      <td>0</td>\n",
              "      <td>0.00</td>\n",
              "      <td>1</td>\n",
              "      <td>20</td>\n",
              "      <td>0.997571</td>\n",
              "      <td>1933</td>\n",
              "      <td>14</td>\n",
              "    </tr>\n",
              "    <tr>\n",
              "      <th>10665</th>\n",
              "      <td>SB · FN 1870 Mobile Banking</td>\n",
              "      <td>12</td>\n",
              "      <td>2.9</td>\n",
              "      <td>1.765647e-06</td>\n",
              "      <td>0.033010</td>\n",
              "      <td>9.999000e-06</td>\n",
              "      <td>0</td>\n",
              "      <td>0.00</td>\n",
              "      <td>1</td>\n",
              "      <td>58</td>\n",
              "      <td>0.873093</td>\n",
              "      <td>1462</td>\n",
              "      <td>12</td>\n",
              "    </tr>\n",
              "    <tr>\n",
              "      <th>10677</th>\n",
              "      <td>Pint - FN Theme</td>\n",
              "      <td>23</td>\n",
              "      <td>2.5</td>\n",
              "      <td>6.397273e-08</td>\n",
              "      <td>0.002350</td>\n",
              "      <td>9.900000e-08</td>\n",
              "      <td>0</td>\n",
              "      <td>0.00</td>\n",
              "      <td>1</td>\n",
              "      <td>78</td>\n",
              "      <td>0.377259</td>\n",
              "      <td>103</td>\n",
              "      <td>6</td>\n",
              "    </tr>\n",
              "    <tr>\n",
              "      <th>10757</th>\n",
              "      <td>Fisher-Price® Smart Connect™</td>\n",
              "      <td>29</td>\n",
              "      <td>2.7</td>\n",
              "      <td>5.386504e-06</td>\n",
              "      <td>0.720003</td>\n",
              "      <td>4.999900e-05</td>\n",
              "      <td>0</td>\n",
              "      <td>0.00</td>\n",
              "      <td>1</td>\n",
              "      <td>105</td>\n",
              "      <td>0.992714</td>\n",
              "      <td>1220</td>\n",
              "      <td>19</td>\n",
              "    </tr>\n",
              "    <tr>\n",
              "      <th>10766</th>\n",
              "      <td>FreedomPop Diagnostics</td>\n",
              "      <td>29</td>\n",
              "      <td>2.9</td>\n",
              "      <td>5.770340e-06</td>\n",
              "      <td>0.070009</td>\n",
              "      <td>9.999900e-05</td>\n",
              "      <td>0</td>\n",
              "      <td>0.00</td>\n",
              "      <td>1</td>\n",
              "      <td>105</td>\n",
              "      <td>0.874313</td>\n",
              "      <td>235</td>\n",
              "      <td>14</td>\n",
              "    </tr>\n",
              "  </tbody>\n",
              "</table>\n",
              "<p>287 rows × 13 columns</p>\n",
              "</div>\n",
              "      <button class=\"colab-df-convert\" onclick=\"convertToInteractive('df-799ebc69-d6cc-43eb-8d0a-06effb3a4582')\"\n",
              "              title=\"Convert this dataframe to an interactive table.\"\n",
              "              style=\"display:none;\">\n",
              "        \n",
              "  <svg xmlns=\"http://www.w3.org/2000/svg\" height=\"24px\"viewBox=\"0 0 24 24\"\n",
              "       width=\"24px\">\n",
              "    <path d=\"M0 0h24v24H0V0z\" fill=\"none\"/>\n",
              "    <path d=\"M18.56 5.44l.94 2.06.94-2.06 2.06-.94-2.06-.94-.94-2.06-.94 2.06-2.06.94zm-11 1L8.5 8.5l.94-2.06 2.06-.94-2.06-.94L8.5 2.5l-.94 2.06-2.06.94zm10 10l.94 2.06.94-2.06 2.06-.94-2.06-.94-.94-2.06-.94 2.06-2.06.94z\"/><path d=\"M17.41 7.96l-1.37-1.37c-.4-.4-.92-.59-1.43-.59-.52 0-1.04.2-1.43.59L10.3 9.45l-7.72 7.72c-.78.78-.78 2.05 0 2.83L4 21.41c.39.39.9.59 1.41.59.51 0 1.02-.2 1.41-.59l7.78-7.78 2.81-2.81c.8-.78.8-2.07 0-2.86zM5.41 20L4 18.59l7.72-7.72 1.47 1.35L5.41 20z\"/>\n",
              "  </svg>\n",
              "      </button>\n",
              "      \n",
              "  <style>\n",
              "    .colab-df-container {\n",
              "      display:flex;\n",
              "      flex-wrap:wrap;\n",
              "      gap: 12px;\n",
              "    }\n",
              "\n",
              "    .colab-df-convert {\n",
              "      background-color: #E8F0FE;\n",
              "      border: none;\n",
              "      border-radius: 50%;\n",
              "      cursor: pointer;\n",
              "      display: none;\n",
              "      fill: #1967D2;\n",
              "      height: 32px;\n",
              "      padding: 0 0 0 0;\n",
              "      width: 32px;\n",
              "    }\n",
              "\n",
              "    .colab-df-convert:hover {\n",
              "      background-color: #E2EBFA;\n",
              "      box-shadow: 0px 1px 2px rgba(60, 64, 67, 0.3), 0px 1px 3px 1px rgba(60, 64, 67, 0.15);\n",
              "      fill: #174EA6;\n",
              "    }\n",
              "\n",
              "    [theme=dark] .colab-df-convert {\n",
              "      background-color: #3B4455;\n",
              "      fill: #D2E3FC;\n",
              "    }\n",
              "\n",
              "    [theme=dark] .colab-df-convert:hover {\n",
              "      background-color: #434B5C;\n",
              "      box-shadow: 0px 1px 3px 1px rgba(0, 0, 0, 0.15);\n",
              "      filter: drop-shadow(0px 1px 2px rgba(0, 0, 0, 0.3));\n",
              "      fill: #FFFFFF;\n",
              "    }\n",
              "  </style>\n",
              "\n",
              "      <script>\n",
              "        const buttonEl =\n",
              "          document.querySelector('#df-799ebc69-d6cc-43eb-8d0a-06effb3a4582 button.colab-df-convert');\n",
              "        buttonEl.style.display =\n",
              "          google.colab.kernel.accessAllowed ? 'block' : 'none';\n",
              "\n",
              "        async function convertToInteractive(key) {\n",
              "          const element = document.querySelector('#df-799ebc69-d6cc-43eb-8d0a-06effb3a4582');\n",
              "          const dataTable =\n",
              "            await google.colab.kernel.invokeFunction('convertToInteractive',\n",
              "                                                     [key], {});\n",
              "          if (!dataTable) return;\n",
              "\n",
              "          const docLinkHtml = 'Like what you see? Visit the ' +\n",
              "            '<a target=\"_blank\" href=https://colab.research.google.com/notebooks/data_table.ipynb>data table notebook</a>'\n",
              "            + ' to learn more about interactive tables.';\n",
              "          element.innerHTML = '';\n",
              "          dataTable['output_type'] = 'display_data';\n",
              "          await google.colab.output.renderOutput(dataTable, element);\n",
              "          const docLink = document.createElement('div');\n",
              "          docLink.innerHTML = docLinkHtml;\n",
              "          element.appendChild(docLink);\n",
              "        }\n",
              "      </script>\n",
              "    </div>\n",
              "  </div>\n",
              "  "
            ],
            "text/plain": [
              "                                                  App  Category  Rating  \\\n",
              "477                                        Calculator         7     2.6   \n",
              "518                     Just She - Top Lesbian Dating         7     1.9   \n",
              "520    EliteSingles – Dating for Single Professionals         7     2.5   \n",
              "527                            Sugar Daddy Dating App         7     2.5   \n",
              "528                                Adult Dirty Emojis         7     2.8   \n",
              "...                                               ...       ...     ...   \n",
              "10624                           Employ Florida Mobile         4     2.9   \n",
              "10665                     SB · FN 1870 Mobile Banking        12     2.9   \n",
              "10677                                 Pint - FN Theme        23     2.5   \n",
              "10757                    Fisher-Price® Smart Connect™        29     2.7   \n",
              "10766                          FreedomPop Diagnostics        29     2.9   \n",
              "\n",
              "            Reviews      Size      Installs  Type  Price  Content Rating  \\\n",
              "477    7.164946e-07  0.062009  9.990000e-07     1   6.99               1   \n",
              "518    1.218041e-05  0.190008  9.999900e-05     0   0.00               3   \n",
              "520    6.878348e-05  0.190008  4.999990e-04     0   0.00               3   \n",
              "527    3.531295e-06  0.057009  9.999900e-05     0   0.00               3   \n",
              "528    1.010769e-06  0.055009  9.999000e-06     0   0.00               4   \n",
              "...             ...       ...           ...   ...    ...             ...   \n",
              "10624  1.228276e-06  0.099009  9.999000e-06     0   0.00               1   \n",
              "10665  1.765647e-06  0.033010  9.999000e-06     0   0.00               1   \n",
              "10677  6.397273e-08  0.002350  9.900000e-08     0   0.00               1   \n",
              "10757  5.386504e-06  0.720003  4.999900e-05     0   0.00               1   \n",
              "10766  5.770340e-06  0.070009  9.999900e-05     0   0.00               1   \n",
              "\n",
              "       Genres  Last Updated  Current Ver  Android Ver  \n",
              "477        36      0.878150          293           12  \n",
              "518        36      0.998879         2278           23  \n",
              "520        36      0.999041         1980           14  \n",
              "527        36      0.880379         1433           16  \n",
              "528        36      0.879159          103           14  \n",
              "...       ...           ...          ...          ...  \n",
              "10624      20      0.997571         1933           14  \n",
              "10665      58      0.873093         1462           12  \n",
              "10677      78      0.377259          103            6  \n",
              "10757     105      0.992714         1220           19  \n",
              "10766     105      0.874313          235           14  \n",
              "\n",
              "[287 rows x 13 columns]"
            ]
          },
          "execution_count": 26,
          "metadata": {},
          "output_type": "execute_result"
        }
      ],
      "source": [
        "Rat"
      ],
      "id": "5f21ca74"
    },
    {
      "cell_type": "code",
      "execution_count": null,
      "metadata": {
        "id": "b1e27e61"
      },
      "outputs": [],
      "source": [],
      "id": "b1e27e61"
    },
    {
      "cell_type": "code",
      "execution_count": null,
      "metadata": {
        "colab": {
          "base_uri": "https://localhost:8080/"
        },
        "id": "6ba8c4d6",
        "outputId": "f66f7d8c-9313-47c0-e20e-dc441f00c3fa"
      },
      "outputs": [
        {
          "name": "stdout",
          "output_type": "stream",
          "text": [
            "Mean Squared Error: 0.2549232592040213\n"
          ]
        }
      ],
      "source": [
        "import pandas as pd\n",
        "from sklearn.model_selection import train_test_split\n",
        "from sklearn.linear_model import LinearRegression\n",
        "from sklearn.metrics import mean_squared_error\n",
        "\n",
        "# Assuming you have a dataframe named df with numerical features X and target variable y\n",
        "\n",
        "# Separate the input features (X) and the target variable (y)\n",
        "X = df.drop(['Rating','App'], axis=1)  # Select all columns except 'Rating' as input features\n",
        "y = df['Rating']\n",
        "\n",
        "# Split the data into train and test sets\n",
        "X_train, X_test, y_train, y_test = train_test_split(X, y, test_size=0.2, random_state=42)\n",
        "\n",
        "# Compute class weights\n",
        "class_weights = dict(pd.Series(y_train).value_counts(normalize=True))\n",
        "\n",
        "# Define the linear regression model\n",
        "model = LinearRegression()\n",
        "\n",
        "# Fit the model on the training data with sample weights\n",
        "model.fit(X_train, y_train, sample_weight=y_train.map(class_weights))\n",
        "\n",
        "# Make predictions on the test data\n",
        "y_pred = model.predict(X_test)\n",
        "\n",
        "# Evaluate the model\n",
        "mse = mean_squared_error(y_test, y_pred)\n",
        "print(f\"Mean Squared Error: {mse}\")\n"
      ],
      "id": "6ba8c4d6"
    },
    {
      "cell_type": "code",
      "execution_count": null,
      "metadata": {
        "id": "5664d9a0"
      },
      "outputs": [],
      "source": [],
      "id": "5664d9a0"
    },
    {
      "cell_type": "code",
      "execution_count": null,
      "metadata": {
        "colab": {
          "base_uri": "https://localhost:8080/"
        },
        "id": "591eea18",
        "outputId": "87d143a4-b3ed-4499-e550-c2980d368e5a"
      },
      "outputs": [
        {
          "data": {
            "text/plain": [
              "App               Just She - Top Lesbian Dating\n",
              "Category                                      7\n",
              "Rating                                      1.9\n",
              "Reviews                                0.000012\n",
              "Size                                   0.190008\n",
              "Installs                                 0.0001\n",
              "Type                                          0\n",
              "Price                                       0.0\n",
              "Content Rating                                3\n",
              "Genres                                       36\n",
              "Last Updated                           0.998879\n",
              "Current Ver                                2278\n",
              "Android Ver                                  23\n",
              "Name: 518, dtype: object"
            ]
          },
          "execution_count": 28,
          "metadata": {},
          "output_type": "execute_result"
        }
      ],
      "source": [
        "df.loc[518]"
      ],
      "id": "591eea18"
    },
    {
      "cell_type": "code",
      "execution_count": null,
      "metadata": {
        "colab": {
          "base_uri": "https://localhost:8080/"
        },
        "id": "88554297",
        "outputId": "c5bdf26b-0058-4fb6-ba28-456d663f5169"
      },
      "outputs": [
        {
          "name": "stderr",
          "output_type": "stream",
          "text": [
            "/usr/local/lib/python3.10/dist-packages/sklearn/base.py:439: UserWarning: X does not have valid feature names, but LinearRegression was fitted with feature names\n",
            "  warnings.warn(\n"
          ]
        },
        {
          "data": {
            "text/plain": [
              "array([4.32671968])"
            ]
          },
          "execution_count": 29,
          "metadata": {},
          "output_type": "execute_result"
        }
      ],
      "source": [
        "model.predict([X.loc[518]])"
      ],
      "id": "88554297"
    },
    {
      "cell_type": "markdown",
      "metadata": {
        "id": "10dfad03"
      },
      "source": [
        "## Better Evaluation"
      ],
      "id": "10dfad03"
    },
    {
      "cell_type": "code",
      "execution_count": null,
      "metadata": {
        "colab": {
          "base_uri": "https://localhost:8080/"
        },
        "id": "15e97c11",
        "outputId": "b7902e53-3316-40b5-85e8-8032c6f7c287"
      },
      "outputs": [
        {
          "name": "stdout",
          "output_type": "stream",
          "text": [
            "R-squared Score: -0.034121293226383465\n"
          ]
        }
      ],
      "source": [
        "from sklearn.metrics import r2_score\n",
        "\n",
        "r2 = r2_score(y_test, y_pred)\n",
        "print(\"R-squared Score:\", r2)\n"
      ],
      "id": "15e97c11"
    },
    {
      "cell_type": "code",
      "execution_count": null,
      "metadata": {
        "colab": {
          "base_uri": "https://localhost:8080/"
        },
        "id": "8eae53c3",
        "outputId": "5f950d3b-8a6a-4023-d9e5-d4807daf36d9"
      },
      "outputs": [
        {
          "name": "stdout",
          "output_type": "stream",
          "text": [
            "Mean Absolute Error: 0.34144532426141594\n"
          ]
        }
      ],
      "source": [
        "from sklearn.metrics import mean_absolute_error\n",
        "\n",
        "mae = mean_absolute_error(y_test, y_pred)\n",
        "print(\"Mean Absolute Error:\", mae)\n"
      ],
      "id": "8eae53c3"
    },
    {
      "cell_type": "code",
      "execution_count": null,
      "metadata": {
        "colab": {
          "base_uri": "https://localhost:8080/"
        },
        "id": "70af3cce",
        "outputId": "27d37462-413c-473a-ee07-0c08e0430981"
      },
      "outputs": [
        {
          "name": "stdout",
          "output_type": "stream",
          "text": [
            "Root Mean Squared Error: 0.5048992564898678\n"
          ]
        }
      ],
      "source": [
        "from sklearn.metrics import mean_squared_error\n",
        "\n",
        "mse = mean_squared_error(y_test, y_pred)\n",
        "rmse = np.sqrt(mse)\n",
        "print(\"Root Mean Squared Error:\", rmse)\n"
      ],
      "id": "70af3cce"
    },
    {
      "cell_type": "code",
      "execution_count": null,
      "metadata": {
        "id": "6292828c"
      },
      "outputs": [],
      "source": [],
      "id": "6292828c"
    },
    {
      "cell_type": "code",
      "execution_count": null,
      "metadata": {
        "id": "455470a9"
      },
      "outputs": [],
      "source": [],
      "id": "455470a9"
    },
    {
      "cell_type": "markdown",
      "metadata": {
        "id": "ad2b0ff7"
      },
      "source": [
        "## Using Different Models"
      ],
      "id": "ad2b0ff7"
    },
    {
      "cell_type": "code",
      "execution_count": null,
      "metadata": {
        "colab": {
          "base_uri": "https://localhost:8080/"
        },
        "id": "6a47e31c",
        "outputId": "4d126098-1a5d-48eb-c73a-9b5ed9f105ac"
      },
      "outputs": [
        {
          "name": "stdout",
          "output_type": "stream",
          "text": [
            "R-squared Score: -0.016189953515632682\n"
          ]
        }
      ],
      "source": [
        "import pandas as pd\n",
        "from sklearn.model_selection import train_test_split\n",
        "from sklearn.linear_model import LinearRegression\n",
        "from sklearn.metrics import r2_score\n",
        "\n",
        "# Assuming you have a dataframe named df with numerical features X and target variable y\n",
        "\n",
        "# Separate the input features (X) and the target variable (y)\n",
        "X = df.drop(['Rating','App'], axis=1)  # Select all columns except 'Rating' as input features\n",
        "y = df['Rating']\n",
        "\n",
        "from sklearn.preprocessing import PolynomialFeatures\n",
        "\n",
        "# Transform the input features to include polynomial terms\n",
        "degree = 2  # Specify the degree of the polynomial\n",
        "poly_features = PolynomialFeatures(degree=degree)\n",
        "X_poly = poly_features.fit_transform(X)\n",
        "\n",
        "# Split the data into train and test sets\n",
        "X_train_poly, X_test_poly, y_train, y_test = train_test_split(X_poly, y, test_size=0.2, random_state=42)\n",
        "\n",
        "# Compute class weights\n",
        "class_weights = dict(pd.Series(y_train).value_counts(normalize=True))\n",
        "\n",
        "# Define the linear regression model\n",
        "model = LinearRegression()\n",
        "\n",
        "# Fit the model on the training data with sample weights\n",
        "model.fit(X_train_poly, y_train, sample_weight=y_train.map(class_weights))\n",
        "\n",
        "# Make predictions on the test data\n",
        "y_pred = model.predict(X_test_poly)\n",
        "\n",
        "# Evaluate the model\n",
        "r2 = r2_score(y_test, y_pred)\n",
        "print(\"R-squared Score:\", r2)\n"
      ],
      "id": "6a47e31c"
    },
    {
      "cell_type": "code",
      "execution_count": null,
      "metadata": {
        "id": "dc82fa40"
      },
      "outputs": [],
      "source": [],
      "id": "dc82fa40"
    },
    {
      "cell_type": "code",
      "execution_count": null,
      "metadata": {
        "colab": {
          "base_uri": "https://localhost:8080/"
        },
        "id": "466ba481",
        "outputId": "e34dce3b-f936-4a26-93e4-533e7600886f"
      },
      "outputs": [
        {
          "name": "stdout",
          "output_type": "stream",
          "text": [
            "R-squared Score: -0.7975882971134955\n"
          ]
        }
      ],
      "source": [
        "import pandas as pd\n",
        "from sklearn.model_selection import train_test_split\n",
        "from sklearn.tree import DecisionTreeRegressor\n",
        "from sklearn.metrics import r2_score\n",
        "\n",
        "# Assuming you have a dataframe named df with numerical features X and target variable y\n",
        "\n",
        "# Separate the input features (X) and the target variable (y)\n",
        "X = df.drop(['Rating','App'], axis=1)  # Select all columns except 'Rating' as input features\n",
        "y = df['Rating']\n",
        "\n",
        "# Split the data into train and test sets\n",
        "X_train, X_test, y_train, y_test = train_test_split(X, y, test_size=0.2, random_state=42)\n",
        "\n",
        "# Compute class weights\n",
        "class_weights = dict(pd.Series(y_train).value_counts(normalize=True))\n",
        "\n",
        "# Define the linear regression model\n",
        "model = DecisionTreeRegressor()\n",
        "\n",
        "# Fit the model on the training data with sample weights\n",
        "model.fit(X_train, y_train, sample_weight=y_train.map(class_weights))\n",
        "\n",
        "# Make predictions on the test data\n",
        "y_pred = model.predict(X_test)\n",
        "\n",
        "# Evaluate the model\n",
        "r2 = r2_score(y_test, y_pred)\n",
        "print(\"R-squared Score:\", r2)\n"
      ],
      "id": "466ba481"
    },
    {
      "cell_type": "code",
      "execution_count": null,
      "metadata": {
        "id": "2dde1001"
      },
      "outputs": [],
      "source": [],
      "id": "2dde1001"
    },
    {
      "cell_type": "code",
      "execution_count": null,
      "metadata": {
        "colab": {
          "base_uri": "https://localhost:8080/"
        },
        "id": "eb8c70ff",
        "outputId": "ee3db74a-fc60-43af-8827-01073dc0b601"
      },
      "outputs": [
        {
          "name": "stdout",
          "output_type": "stream",
          "text": [
            "R-squared Score: -0.6939301666704831\n"
          ]
        }
      ],
      "source": [
        "import pandas as pd\n",
        "from sklearn.model_selection import train_test_split\n",
        "import xgboost as xgb\n",
        "from sklearn.metrics import r2_score\n",
        "\n",
        "# Assuming you have a dataframe named df with numerical features X and target variable y\n",
        "\n",
        "# Separate the input features (X) and the target variable (y)\n",
        "X = df.drop(['Rating','App'], axis=1)  # Select all columns except 'Rating' as input features\n",
        "y = df['Rating']\n",
        "\n",
        "# Split the data into train and test sets\n",
        "X_train, X_test, y_train, y_test = train_test_split(X, y, test_size=0.2, random_state=42)\n",
        "\n",
        "# Compute class weights\n",
        "class_weights = 1.0 / pd.Series(y_train).value_counts(normalize=False)\n",
        "\n",
        "# Define the linear regression model\n",
        "model = xgb.XGBRegressor()\n",
        "\n",
        "# Fit the model on the training data with sample weights\n",
        "model.fit(X_train, y_train, sample_weight=y_train.map(class_weights))\n",
        "\n",
        "# Make predictions on the test data\n",
        "y_pred = model.predict(X_test)\n",
        "\n",
        "# Evaluate the model\n",
        "r2 = r2_score(y_test, y_pred)\n",
        "print(\"R-squared Score:\", r2)\n"
      ],
      "id": "eb8c70ff"
    },
    {
      "cell_type": "code",
      "execution_count": null,
      "metadata": {
        "id": "cda5848d"
      },
      "outputs": [],
      "source": [],
      "id": "cda5848d"
    },
    {
      "cell_type": "code",
      "execution_count": null,
      "metadata": {
        "colab": {
          "base_uri": "https://localhost:8080/"
        },
        "id": "734ae0d4",
        "outputId": "1c050367-b4c5-4385-a9ac-2c05532d08ca"
      },
      "outputs": [
        {
          "name": "stdout",
          "output_type": "stream",
          "text": [
            "R-squared Score: -0.20606501419499446\n"
          ]
        }
      ],
      "source": [
        "import pandas as pd\n",
        "from sklearn.model_selection import train_test_split\n",
        "from sklearn.neural_network import MLPRegressor\n",
        "from sklearn.metrics import r2_score\n",
        "\n",
        "# Assuming you have a dataframe named df with numerical features X and target variable y\n",
        "\n",
        "# Separate the input features (X) and the target variable (y)\n",
        "X = df.drop(['Rating','App'], axis=1)  # Select all columns except 'Rating' as input features\n",
        "y = df['Rating']\n",
        "\n",
        "# Split the data into train and test sets\n",
        "X_train, X_test, y_train, y_test = train_test_split(X, y, test_size=0.2, random_state=42)\n",
        "\n",
        "# Define the linear regression model\n",
        "model = MLPRegressor()\n",
        "\n",
        "# Fit the model on the training data with sample weights\n",
        "model.fit(X_train, y_train)\n",
        "\n",
        "# Make predictions on the test data\n",
        "y_pred = model.predict(X_test)\n",
        "\n",
        "# Evaluate the model\n",
        "r2 = r2_score(y_test, y_pred)\n",
        "print(\"R-squared Score:\", r2)\n"
      ],
      "id": "734ae0d4"
    },
    {
      "cell_type": "code",
      "execution_count": null,
      "metadata": {
        "id": "961c7cee"
      },
      "outputs": [],
      "source": [],
      "id": "961c7cee"
    },
    {
      "cell_type": "code",
      "execution_count": null,
      "metadata": {
        "colab": {
          "base_uri": "https://localhost:8080/"
        },
        "id": "177fc5e2",
        "outputId": "561eb6ef-f4c4-4e70-c2e0-fc580049eb90"
      },
      "outputs": [
        {
          "name": "stdout",
          "output_type": "stream",
          "text": [
            "R-squared Score: 0.18869919439200034\n"
          ]
        }
      ],
      "source": [
        "import pandas as pd\n",
        "from sklearn.model_selection import train_test_split\n",
        "from sklearn.ensemble import RandomForestRegressor\n",
        "from sklearn.metrics import r2_score\n",
        "\n",
        "# Assuming you have a dataframe named df with numerical features X and target variable y\n",
        "\n",
        "# Separate the input features (X) and the target variable (y)\n",
        "X = df.drop(['Rating','App'], axis=1)  # Select all columns except 'Rating' as input features\n",
        "y = df['Rating']\n",
        "\n",
        "# Split the data into train and test sets\n",
        "X_train, X_test, y_train, y_test = train_test_split(X, y, test_size=0.2, random_state=42)\n",
        "\n",
        "# Compute class weights\n",
        "class_weights = 1.0 / pd.Series(y_train).value_counts(normalize=False)\n",
        "\n",
        "# Define the linear regression model\n",
        "model = RandomForestRegressor()\n",
        "\n",
        "# Fit the model on the training data with sample weights\n",
        "model.fit(X_train, y_train, sample_weight=y_train.map(class_weights))\n",
        "\n",
        "# Make predictions on the test data\n",
        "y_pred = model.predict(X_test)\n",
        "\n",
        "# Evaluate the model\n",
        "r2 = r2_score(y_test, y_pred)\n",
        "print(\"R-squared Score:\", r2)\n"
      ],
      "id": "177fc5e2"
    },
    {
      "cell_type": "code",
      "execution_count": null,
      "metadata": {
        "colab": {
          "base_uri": "https://localhost:8080/"
        },
        "id": "f11855c0",
        "outputId": "03c90303-7d90-4b5a-ea5a-2dbab95b65ae"
      },
      "outputs": [
        {
          "name": "stderr",
          "output_type": "stream",
          "text": [
            "/usr/local/lib/python3.10/dist-packages/sklearn/base.py:439: UserWarning: X does not have valid feature names, but RandomForestRegressor was fitted with feature names\n",
            "  warnings.warn(\n"
          ]
        },
        {
          "data": {
            "text/plain": [
              "array([2.965])"
            ]
          },
          "execution_count": 38,
          "metadata": {},
          "output_type": "execute_result"
        }
      ],
      "source": [
        "model.predict([X.loc[528]])"
      ],
      "id": "f11855c0"
    },
    {
      "cell_type": "code",
      "execution_count": null,
      "metadata": {
        "colab": {
          "base_uri": "https://localhost:8080/"
        },
        "id": "be18432d",
        "outputId": "77d1095b-7793-49eb-ca3b-f4053a88cde7"
      },
      "outputs": [
        {
          "data": {
            "text/plain": [
              "2.8"
            ]
          },
          "execution_count": 39,
          "metadata": {},
          "output_type": "execute_result"
        }
      ],
      "source": [
        "y.loc[528]"
      ],
      "id": "be18432d"
    },
    {
      "cell_type": "code",
      "execution_count": null,
      "metadata": {
        "id": "a83fcb18"
      },
      "outputs": [],
      "source": [],
      "id": "a83fcb18"
    },
    {
      "cell_type": "code",
      "execution_count": null,
      "metadata": {
        "id": "3cJ0KFpXB2Uo"
      },
      "outputs": [],
      "source": [],
      "id": "3cJ0KFpXB2Uo"
    },
    {
      "cell_type": "code",
      "execution_count": null,
      "metadata": {
        "colab": {
          "base_uri": "https://localhost:8080/"
        },
        "id": "14442bea",
        "outputId": "9c8cd431-60b2-4656-83ab-dea14b3926ab"
      },
      "outputs": [
        {
          "name": "stdout",
          "output_type": "stream",
          "text": [
            "Fitting 5 folds for each of 30 candidates, totalling 150 fits\n",
            "Best Parameters: {'n_estimators': 100, 'min_samples_split': 5, 'min_samples_leaf': 2, 'max_features': 'sqrt', 'max_depth': None, 'bootstrap': True}\n",
            "R-squared Score: 0.20081770381201902\n"
          ]
        }
      ],
      "source": [
        "from sklearn.model_selection import RandomizedSearchCV\n",
        "\n",
        "# Define the parameter grid for grid search\n",
        "param_grid = {\n",
        "    'n_estimators': [100, 200, 300],  # Number of trees in the forest\n",
        "    'max_depth': [None, 5, 10],  # Maximum depth of the trees\n",
        "    'min_samples_split': [2, 5, 10],  # Minimum number of samples required to split an internal node\n",
        "    'min_samples_leaf': [1, 2, 4],  # Minimum number of samples required to be at a leaf node\n",
        "    'max_features': ['auto', 'sqrt'],  # Number of features to consider when looking for the best split\n",
        "    'bootstrap': [True, False]  # Whether bootstrap samples are used when building trees\n",
        "}\n",
        "\n",
        "random_search = RandomizedSearchCV(\n",
        "    estimator=model,\n",
        "    param_distributions=param_grid,\n",
        "    n_iter=30,  # Number of parameter settings that are sampled\n",
        "    scoring='r2',  # Scoring metric for evaluation\n",
        "    cv=5,  # Number of cross-validation folds\n",
        "    verbose=3,  # Verbosity level (increase for more information)\n",
        "    n_jobs=-1  # Number of parallel jobs (-1 to use all available cores)\n",
        ")\n",
        "\n",
        "# Fit the RandomizedSearchCV object to the training data\n",
        "random_search.fit(X_train, y_train)\n",
        "\n",
        "# Print the best parameter combination found\n",
        "print(\"Best Parameters:\", random_search.best_params_)\n",
        "\n",
        "# Make predictions using the best estimator\n",
        "y_pred = random_search.best_estimator_.predict(X_test)\n",
        "\n",
        "# Evaluate the model performance\n",
        "r2 = r2_score(y_test, y_pred)\n",
        "print(\"R-squared Score:\", r2)"
      ],
      "id": "14442bea"
    },
    {
      "cell_type": "markdown",
      "metadata": {
        "id": "35ac78e9"
      },
      "source": [
        "Fitting 5 folds for each of 30 candidates, totalling 150 fits\n",
        "Best Parameters: {'n_estimators': 200, 'min_samples_split': 5, 'min_samples_leaf': 1, 'max_features': 'sqrt', 'max_depth': None, 'bootstrap': True}\n",
        "R-squared Score: 0.19668141645514592"
      ],
      "id": "35ac78e9"
    },
    {
      "cell_type": "code",
      "execution_count": null,
      "metadata": {
        "id": "79b6a938"
      },
      "outputs": [],
      "source": [],
      "id": "79b6a938"
    },
    {
      "cell_type": "code",
      "execution_count": null,
      "metadata": {
        "colab": {
          "background_save": true
        },
        "id": "cdbb99e3"
      },
      "outputs": [],
      "source": [
        "from sklearn.model_selection import GridSearchCV\n",
        "\n",
        "# Define the parameter grid for grid search\n",
        "param_grid = {\n",
        "    'n_estimators': [190, 220],  # Number of trees in the forest\n",
        "    'max_depth': [None, 5],  # Maximum depth of the trees\n",
        "    'min_samples_split': [2, 5],  # Minimum number of samples required to split an internal node\n",
        "    'min_samples_leaf': [2, 6],  # Minimum number of samples required to be at a leaf node\n",
        "    'max_features': ['sqrt'],  # Number of features to consider when looking for the best split\n",
        "    'bootstrap': [True]  # Whether bootstrap samples are used when building trees\n",
        "}\n",
        "\n",
        "# Perform grid search with cross-validation\n",
        "grid_search = GridSearchCV(model, param_grid, cv=5, scoring='r2')\n",
        "grid_search.fit(X_train, y_train)\n",
        "\n",
        "# Get the best model and its hyperparameters\n",
        "best_model = grid_search.best_estimator_\n",
        "best_params = grid_search.best_params_"
      ],
      "id": "cdbb99e3"
    },
    {
      "cell_type": "code",
      "execution_count": null,
      "metadata": {
        "colab": {
          "background_save": true
        },
        "id": "e28ef8e4",
        "outputId": "363d67fb-e19f-434e-83d5-a53ec88b03de"
      },
      "outputs": [
        {
          "name": "stdout",
          "output_type": "stream",
          "text": [
            "R-squared Score: 0.20068872711460095\n"
          ]
        }
      ],
      "source": [
        "y_pred = best_model.predict(X_test)\n",
        "r2 = r2_score(y_test, y_pred)\n",
        "print(\"R-squared Score:\", r2)"
      ],
      "id": "e28ef8e4"
    },
    {
      "cell_type": "code",
      "execution_count": null,
      "metadata": {
        "colab": {
          "background_save": true
        },
        "id": "kyJB808kB2Bz",
        "outputId": "d3c3b5d1-3afe-4621-9f94-99abb3f9a2da"
      },
      "outputs": [
        {
          "data": {
            "text/plain": [
              "{'bootstrap': True,\n",
              " 'max_depth': None,\n",
              " 'max_features': 'sqrt',\n",
              " 'min_samples_leaf': 2,\n",
              " 'min_samples_split': 2,\n",
              " 'n_estimators': 190}"
            ]
          },
          "execution_count": 61,
          "metadata": {},
          "output_type": "execute_result"
        }
      ],
      "source": [
        "best_params"
      ],
      "id": "kyJB808kB2Bz"
    },
    {
      "cell_type": "code",
      "execution_count": null,
      "metadata": {
        "colab": {
          "background_save": true
        },
        "id": "zM7MnTMXkHx4"
      },
      "outputs": [],
      "source": [
        "filename = 'bb_model.sav'"
      ],
      "id": "zM7MnTMXkHx4"
    },
    {
      "cell_type": "code",
      "execution_count": null,
      "metadata": {
        "colab": {
          "background_save": true
        },
        "id": "7QDhs7d7CiVL"
      },
      "outputs": [],
      "source": [
        "import pickle\n",
        "\n",
        "\n",
        "pickle.dump(best_model, open(filename, 'wb'))"
      ],
      "id": "7QDhs7d7CiVL"
    },
    {
      "cell_type": "code",
      "execution_count": null,
      "metadata": {
        "colab": {
          "background_save": true
        },
        "id": "hfX5o7znEJWr"
      },
      "outputs": [],
      "source": [
        "new_model = pickle.load(open(filename, 'rb'))"
      ],
      "id": "hfX5o7znEJWr"
    },
    {
      "cell_type": "code",
      "execution_count": null,
      "metadata": {
        "colab": {
          "background_save": true
        },
        "id": "RHorqRjWM7J1",
        "outputId": "21ea5ccb-6379-4b1e-8cb6-d809d44d667b"
      },
      "outputs": [
        {
          "name": "stderr",
          "output_type": "stream",
          "text": [
            "/usr/local/lib/python3.10/dist-packages/sklearn/base.py:439: UserWarning: X does not have valid feature names, but RandomForestRegressor was fitted with feature names\n",
            "  warnings.warn(\n"
          ]
        },
        {
          "data": {
            "text/plain": [
              "array([3.11257327])"
            ]
          },
          "execution_count": 65,
          "metadata": {},
          "output_type": "execute_result"
        }
      ],
      "source": [
        "new_model.predict([X.loc[528]])"
      ],
      "id": "RHorqRjWM7J1"
    },
    {
      "cell_type": "code",
      "execution_count": null,
      "metadata": {
        "colab": {
          "background_save": true
        },
        "id": "fQRnj4UrNFz7",
        "outputId": "ae1c3ef8-88cd-4e9a-d15c-1f9853c669fc"
      },
      "outputs": [
        {
          "data": {
            "text/plain": [
              "2.8"
            ]
          },
          "execution_count": 66,
          "metadata": {},
          "output_type": "execute_result"
        }
      ],
      "source": [
        "y.loc[528]"
      ],
      "id": "fQRnj4UrNFz7"
    },
    {
      "cell_type": "code",
      "execution_count": null,
      "metadata": {
        "colab": {
          "background_save": true
        },
        "id": "Bby51yYyNI3y",
        "outputId": "10d70765-9c33-46cf-efd1-afd5037a6784"
      },
      "outputs": [
        {
          "name": "stdout",
          "output_type": "stream",
          "text": [
            "R-squared Score: 0.20068872711460095\n"
          ]
        }
      ],
      "source": [
        "y_pred = new_model.predict(X_test)\n",
        "r2 = r2_score(y_test, y_pred)\n",
        "print(\"R-squared Score:\", r2)"
      ],
      "id": "Bby51yYyNI3y"
    },
    {
      "cell_type": "code",
      "execution_count": null,
      "metadata": {
        "id": "JUBGfF9PNSqv"
      },
      "outputs": [],
      "source": [],
      "id": "JUBGfF9PNSqv"
    },
    {
      "cell_type": "code",
      "execution_count": null,
      "metadata": {
        "id": "PZ17ZpaGNhiG"
      },
      "outputs": [],
      "source": [],
      "id": "PZ17ZpaGNhiG"
    }
  ],
  "metadata": {
    "colab": {
      "provenance": []
    },
    "kernelspec": {
      "display_name": "Python 3 (ipykernel)",
      "language": "python",
      "name": "python3"
    },
    "language_info": {
      "codemirror_mode": {
        "name": "ipython",
        "version": 3
      },
      "file_extension": ".py",
      "mimetype": "text/x-python",
      "name": "python",
      "nbconvert_exporter": "python",
      "pygments_lexer": "ipython3",
      "version": "3.10.4"
    }
  },
  "nbformat": 4,
  "nbformat_minor": 5
}